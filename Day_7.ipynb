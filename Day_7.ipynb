{
  "nbformat": 4,
  "nbformat_minor": 0,
  "metadata": {
    "colab": {
      "provenance": [],
      "authorship_tag": "ABX9TyMjVKwKfD6ReskJx1THGoDP",
      "include_colab_link": true
    },
    "kernelspec": {
      "name": "python3",
      "display_name": "Python 3"
    },
    "language_info": {
      "name": "python"
    }
  },
  "cells": [
    {
      "cell_type": "markdown",
      "metadata": {
        "id": "view-in-github",
        "colab_type": "text"
      },
      "source": [
        "<a href=\"https://colab.research.google.com/github/Ajay-Martin/Internship-/blob/main/Day_7.ipynb\" target=\"_parent\"><img src=\"https://colab.research.google.com/assets/colab-badge.svg\" alt=\"Open In Colab\"/></a>"
      ]
    },
    {
      "cell_type": "markdown",
      "source": [
        "#Day6"
      ],
      "metadata": {
        "id": "lvptTA0J-kGC"
      }
    },
    {
      "cell_type": "markdown",
      "source": [
        "##Using Break Statement in While and for loop"
      ],
      "metadata": {
        "id": "Yg0QWxTH-ou9"
      }
    },
    {
      "cell_type": "code",
      "source": [
        "count = 0\n",
        "while count < 5:\n",
        "  print(count)\n",
        "  count = count + 1\n",
        "  if count == 3:\n",
        "    break"
      ],
      "metadata": {
        "id": "RgnT2nzt-l_t",
        "colab": {
          "base_uri": "https://localhost:8080/"
        },
        "outputId": "67b33d77-0c5f-4f8e-ea71-736179f3643e"
      },
      "execution_count": 7,
      "outputs": [
        {
          "output_type": "stream",
          "name": "stdout",
          "text": [
            "0\n",
            "1\n",
            "2\n"
          ]
        }
      ]
    },
    {
      "cell_type": "code",
      "source": [
        "fruits = ['apple', 'banana', 'carrot','cherry','tomato']\n",
        "for x in fruits:\n",
        "  print(x)\n",
        "  if x =='carrot':\n",
        "    break\n",
        "    "
      ],
      "metadata": {
        "colab": {
          "base_uri": "https://localhost:8080/"
        },
        "id": "GDcVQhCAVjvG",
        "outputId": "b7aeb80a-e069-4961-b71f-e85aafdea1c6"
      },
      "execution_count": 13,
      "outputs": [
        {
          "output_type": "stream",
          "name": "stdout",
          "text": [
            "apple\n",
            "banana\n",
            "carrot\n"
          ]
        }
      ]
    },
    {
      "cell_type": "markdown",
      "source": [
        "##Usng Continue Statement in for and while loop"
      ],
      "metadata": {
        "id": "zYYa1voe-ybc"
      }
    },
    {
      "cell_type": "code",
      "source": [
        "while count < 10:\n",
        "  if count == 5:\n",
        "    continue\n",
        "    print(count)\n",
        "    count = count + 1"
      ],
      "metadata": {
        "id": "LSuIhD7A-5F0",
        "colab": {
          "base_uri": "https://localhost:8080/",
          "height": 235
        },
        "outputId": "8cd4664f-1855-4d02-a269-8fd1729bbaee"
      },
      "execution_count": 14,
      "outputs": [
        {
          "output_type": "error",
          "ename": "KeyboardInterrupt",
          "evalue": "ignored",
          "traceback": [
            "\u001b[0;31m---------------------------------------------------------------------------\u001b[0m",
            "\u001b[0;31mKeyboardInterrupt\u001b[0m                         Traceback (most recent call last)",
            "\u001b[0;32m<ipython-input-14-74fce2b43836>\u001b[0m in \u001b[0;36m<module>\u001b[0;34m\u001b[0m\n\u001b[0;32m----> 1\u001b[0;31m \u001b[0;32mwhile\u001b[0m \u001b[0mcount\u001b[0m \u001b[0;34m<\u001b[0m \u001b[0;36m10\u001b[0m\u001b[0;34m:\u001b[0m\u001b[0;34m\u001b[0m\u001b[0;34m\u001b[0m\u001b[0m\n\u001b[0m\u001b[1;32m      2\u001b[0m   \u001b[0;32mif\u001b[0m \u001b[0mcount\u001b[0m \u001b[0;34m==\u001b[0m \u001b[0;36m5\u001b[0m\u001b[0;34m:\u001b[0m\u001b[0;34m\u001b[0m\u001b[0;34m\u001b[0m\u001b[0m\n\u001b[1;32m      3\u001b[0m     \u001b[0;32mcontinue\u001b[0m\u001b[0;34m\u001b[0m\u001b[0;34m\u001b[0m\u001b[0m\n\u001b[1;32m      4\u001b[0m     \u001b[0mprint\u001b[0m\u001b[0;34m(\u001b[0m\u001b[0mcount\u001b[0m\u001b[0;34m)\u001b[0m\u001b[0;34m\u001b[0m\u001b[0;34m\u001b[0m\u001b[0m\n\u001b[1;32m      5\u001b[0m     \u001b[0mcount\u001b[0m \u001b[0;34m=\u001b[0m \u001b[0mcount\u001b[0m \u001b[0;34m+\u001b[0m \u001b[0;36m1\u001b[0m\u001b[0;34m\u001b[0m\u001b[0;34m\u001b[0m\u001b[0m\n",
            "\u001b[0;31mKeyboardInterrupt\u001b[0m: "
          ]
        }
      ]
    },
    {
      "cell_type": "code",
      "source": [
        "for x in fruits:\n",
        "  print(x)\n",
        "  if x =='carrot':\n",
        "    continue\n",
        "    print('Ye hai aam zindagi',x + 1) if x !='carrot' \n",
        "    else print('Ye hai mentos ki zindagi')\n",
        "print('Looop Samapth')"
      ],
      "metadata": {
        "id": "ZbhChTNtXT81"
      },
      "execution_count": null,
      "outputs": []
    },
    {
      "cell_type": "markdown",
      "source": [
        "##Write one program using while loop"
      ],
      "metadata": {
        "id": "i0y1zCkx-5uW"
      }
    },
    {
      "cell_type": "code",
      "source": [
        "num = int(input(\"Entere your numbere : \"))\n",
        "no = 1\n",
        "while num <= no:\n",
        "  if(no % 2 !=0):\n",
        "    print(\"{0}\".format(no))\n",
        "    no = no + 1"
      ],
      "metadata": {
        "id": "cNIkYdnm-_hm"
      },
      "execution_count": null,
      "outputs": []
    },
    {
      "cell_type": "markdown",
      "source": [
        "##Loop Through String"
      ],
      "metadata": {
        "id": "mDCdJZIM_Crl"
      }
    },
    {
      "cell_type": "code",
      "source": [
        "lang = 'Tamil'\n",
        "for l in lang:\n",
        "  print(l)\n",
        "  for i in range(len(lang)):\n",
        "    print(lang[i])"
      ],
      "metadata": {
        "id": "174VdSsX_FIX"
      },
      "execution_count": null,
      "outputs": []
    },
    {
      "cell_type": "markdown",
      "source": [
        "##use range in For Loop"
      ],
      "metadata": {
        "id": "weNAY28E_Ft4"
      }
    },
    {
      "cell_type": "code",
      "source": [
        "lst = list(range(11))\n",
        "print(lst)"
      ],
      "metadata": {
        "id": "x2v-SSXg_I42"
      },
      "execution_count": null,
      "outputs": []
    },
    {
      "cell_type": "markdown",
      "source": [
        "##Use for loop and if else in list comprehension\n",
        "\n"
      ],
      "metadata": {
        "id": "sFG_MG1m_Jga"
      }
    },
    {
      "cell_type": "code",
      "source": [
        "num =[i for i in range(10) if i%2 == 0]\n",
        "print(num)"
      ],
      "metadata": {
        "id": "-C7WwzB8_PTK",
        "colab": {
          "base_uri": "https://localhost:8080/"
        },
        "outputId": "f37bfb80-dc8c-43c1-93bb-d94f08a4d4a9"
      },
      "execution_count": 21,
      "outputs": [
        {
          "output_type": "stream",
          "name": "stdout",
          "text": [
            "[0, 2, 4, 6, 8]\n"
          ]
        }
      ]
    },
    {
      "cell_type": "markdown",
      "source": [
        "##if .. else in for loop"
      ],
      "metadata": {
        "id": "r_tPiDpt_P3u"
      }
    },
    {
      "cell_type": "code",
      "source": [
        "for x in range(6):\n",
        "  print(x)\n",
        "else:\n",
        "  print(\"Finally finished!\")"
      ],
      "metadata": {
        "id": "LvQOU6ah_S9_"
      },
      "execution_count": null,
      "outputs": []
    },
    {
      "cell_type": "markdown",
      "source": [
        "##Use nested for loop"
      ],
      "metadata": {
        "id": "oFwciosF_Tgp"
      }
    },
    {
      "cell_type": "code",
      "source": [
        "adj = [\"red\", \"big\", \"tasty\"]\n",
        "fruits = [\"apple\", \"banana\", \"cherry\"]\n",
        "\n",
        "for x in adj:\n",
        "  for y in fruits:\n",
        "    print(x, y)"
      ],
      "metadata": {
        "id": "v3ghp4Wd_Vbw"
      },
      "execution_count": null,
      "outputs": []
    },
    {
      "cell_type": "markdown",
      "source": [
        "##Print all even and odd numbers(1,100)\n"
      ],
      "metadata": {
        "id": "0z80CDZG_ZpN"
      }
    },
    {
      "cell_type": "code",
      "source": [
        "x=[i for i in range(0,100+1) if i%2==0]\n",
        "print('Evens',x)\n",
        "y=[j for j in range(0,100+1) if j%1==0]\n",
        "print('odds',y)"
      ],
      "metadata": {
        "id": "uIsa-NJm_aYd",
        "colab": {
          "base_uri": "https://localhost:8080/"
        },
        "outputId": "ea301031-fa7e-45cb-d177-9128b5b179de"
      },
      "execution_count": 30,
      "outputs": [
        {
          "output_type": "stream",
          "name": "stdout",
          "text": [
            "Evens [0, 2, 4, 6, 8, 10, 12, 14, 16, 18, 20, 22, 24, 26, 28, 30, 32, 34, 36, 38, 40, 42, 44, 46, 48, 50, 52, 54, 56, 58, 60, 62, 64, 66, 68, 70, 72, 74, 76, 78, 80, 82, 84, 86, 88, 90, 92, 94, 96, 98, 100]\n",
            "odds [0, 1, 2, 3, 4, 5, 6, 7, 8, 9, 10, 11, 12, 13, 14, 15, 16, 17, 18, 19, 20, 21, 22, 23, 24, 25, 26, 27, 28, 29, 30, 31, 32, 33, 34, 35, 36, 37, 38, 39, 40, 41, 42, 43, 44, 45, 46, 47, 48, 49, 50, 51, 52, 53, 54, 55, 56, 57, 58, 59, 60, 61, 62, 63, 64, 65, 66, 67, 68, 69, 70, 71, 72, 73, 74, 75, 76, 77, 78, 79, 80, 81, 82, 83, 84, 85, 86, 87, 88, 89, 90, 91, 92, 93, 94, 95, 96, 97, 98, 99, 100]\n"
          ]
        }
      ]
    },
    {
      "cell_type": "markdown",
      "source": [
        "##take a list and iterate in reveserd form without using inbulit function\n"
      ],
      "metadata": {
        "id": "atDXlfp5_j4A"
      }
    },
    {
      "cell_type": "code",
      "source": [],
      "metadata": {
        "id": "n3WYPEDjBxAi"
      },
      "execution_count": null,
      "outputs": []
    },
    {
      "cell_type": "markdown",
      "source": [
        "##Nested for loop to print the following pattern\n"
      ],
      "metadata": {
        "id": "dSaElcUXCuk4"
      }
    },
    {
      "cell_type": "code",
      "source": [
        "****\n",
        "*  *\n",
        "****"
      ],
      "metadata": {
        "id": "dD8vHhG7CspY"
      },
      "execution_count": null,
      "outputs": []
    },
    {
      "cell_type": "markdown",
      "source": [
        "##Wrie a programe to print\n",
        "#123\n",
        "#456\n",
        "#789"
      ],
      "metadata": {
        "id": "1uxZT29vDqbD"
      }
    },
    {
      "cell_type": "code",
      "source": [],
      "metadata": {
        "id": "x4pCvzKHC_0D"
      },
      "execution_count": null,
      "outputs": []
    }
  ]
}