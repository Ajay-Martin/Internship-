{
  "nbformat": 4,
  "nbformat_minor": 0,
  "metadata": {
    "colab": {
      "provenance": [],
      "collapsed_sections": [
        "dlRQQuwX3K2T",
        "YqGe9koK4SBW",
        "8cnxZwr84aLd",
        "DoHCESSP4pm9",
        "39uf0baEbUKa",
        "tHEpvveH0M2M"
      ],
      "include_colab_link": true
    },
    "kernelspec": {
      "name": "python3",
      "display_name": "Python 3"
    },
    "language_info": {
      "name": "python"
    }
  },
  "cells": [
    {
      "cell_type": "markdown",
      "metadata": {
        "id": "view-in-github",
        "colab_type": "text"
      },
      "source": [
        "<a href=\"https://colab.research.google.com/github/Ajay-Martin/Internship-/blob/main/Basic_Exercises_.ipynb\" target=\"_parent\"><img src=\"https://colab.research.google.com/assets/colab-badge.svg\" alt=\"Open In Colab\"/></a>"
      ]
    },
    {
      "cell_type": "markdown",
      "source": [
        "#1.Write a Python program to print the following string in a specific format\n",
        "\n",
        "\n",
        "\n"
      ],
      "metadata": {
        "id": "dlRQQuwX3K2T"
      }
    },
    {
      "cell_type": "code",
      "execution_count": null,
      "metadata": {
        "id": "SOa4WGmn3DKB"
      },
      "outputs": [],
      "source": [
        "#Twinkle ,twinkle, little star,\n",
        "#\t How I wonder what you are !\n",
        "#\t\tUp above the world so high, \n",
        "#\t\t Like a dimond in the sky.\n",
        "#Twinkle ,twinkle, little star,\n",
        "#\t How I wonder what you are "
      ]
    },
    {
      "cell_type": "code",
      "source": [
        "print(\"Twinkle, twinkle, little star, \\n\\t How I wonder what you are! \\n\\t\\t Up above the world so high, \\n\\t\\t Like a diamond in the sky. \\n Twinkle, twinkle, little star, \\n\\t How I wonder what you are!\")\n"
      ],
      "metadata": {
        "colab": {
          "base_uri": "https://localhost:8080/"
        },
        "id": "CIAFImiq9nHm",
        "outputId": "b8cc5a82-f939-4274-fecf-7106f0725a19"
      },
      "execution_count": null,
      "outputs": [
        {
          "output_type": "stream",
          "name": "stdout",
          "text": [
            "Twinkle, twinkle, little star, \n",
            "\t How I wonder what you are! \n",
            "\t\t Up above the world so high, \n",
            "\t\t Like a diamond in the sky. \n",
            " Twinkle, twinkle, little star, \n",
            "\t How I wonder what you are!\n"
          ]
        }
      ]
    },
    {
      "cell_type": "markdown",
      "source": [
        "#2.Add Comments\n"
      ],
      "metadata": {
        "id": "YqGe9koK4SBW"
      }
    },
    {
      "cell_type": "code",
      "source": [
        "#This ia a Comment\n",
        "#Ye bhi Comment hai"
      ],
      "metadata": {
        "id": "ergP5bzE4UNs"
      },
      "execution_count": null,
      "outputs": []
    },
    {
      "cell_type": "markdown",
      "source": [
        "#3.Create Different List Of Variables"
      ],
      "metadata": {
        "id": "8cnxZwr84aLd"
      }
    },
    {
      "cell_type": "code",
      "source": [
        "#Using Append\n",
        "from typing import List"
      ],
      "metadata": {
        "id": "Bm-rT-ku4iDc"
      },
      "execution_count": null,
      "outputs": []
    },
    {
      "cell_type": "code",
      "source": [
        "a = b = c = 3\n",
        "x=[a,b,c]\n",
        "d = e = f =7\n",
        "y=[d,e,f]\n",
        "\n",
        "list = []\n",
        "\n",
        "list.append(x)\n",
        "list.append(y)\n",
        "print(list)"
      ],
      "metadata": {
        "colab": {
          "base_uri": "https://localhost:8080/"
        },
        "id": "yAt8ieoMCam1",
        "outputId": "4304455a-dec1-478c-e972-4a3087e2f4e2"
      },
      "execution_count": null,
      "outputs": [
        {
          "output_type": "stream",
          "name": "stdout",
          "text": [
            "[[3, 3, 3], [7, 7, 7]]\n"
          ]
        }
      ]
    },
    {
      "cell_type": "code",
      "source": [
        "#Basic list \n",
        "[[a,d],[b,e],[c,f]]"
      ],
      "metadata": {
        "colab": {
          "base_uri": "https://localhost:8080/"
        },
        "id": "a6TAPSXoDz98",
        "outputId": "77936e8f-7fb2-46f9-dcc3-86db62eda9d4"
      },
      "execution_count": null,
      "outputs": [
        {
          "output_type": "execute_result",
          "data": {
            "text/plain": [
              "[[3, 7], [3, 7], [3, 7]]"
            ]
          },
          "metadata": {},
          "execution_count": 31
        }
      ]
    },
    {
      "cell_type": "markdown",
      "source": [
        "#4.Take first name and last name as two seperate variables and then join two variables"
      ],
      "metadata": {
        "id": "DoHCESSP4pm9"
      }
    },
    {
      "cell_type": "code",
      "source": [
        "a = input(\"Enter your First Name =  \")\n",
        "b = input(\"Enter your last Name = \")\n",
        "print(a +\" \"+ b)"
      ],
      "metadata": {
        "id": "K0jOJj525Au3",
        "colab": {
          "base_uri": "https://localhost:8080/"
        },
        "outputId": "d4610ce2-6bca-4385-c54c-18ba8a1f5b81"
      },
      "execution_count": null,
      "outputs": [
        {
          "output_type": "stream",
          "name": "stdout",
          "text": [
            "Enter your First Name =  ajay\n",
            "Enter your last Name = daniel\n",
            "ajay daniel\n"
          ]
        }
      ]
    },
    {
      "cell_type": "markdown",
      "source": [],
      "metadata": {
        "id": "xn5dacHyrWt7"
      }
    },
    {
      "cell_type": "markdown",
      "source": [
        "#Day2"
      ],
      "metadata": {
        "id": "39uf0baEbUKa"
      }
    },
    {
      "cell_type": "markdown",
      "source": [
        "*italicized text*##Type Casting String,Float and Integer"
      ],
      "metadata": {
        "id": "ZxRFsUfAbUKd"
      }
    },
    {
      "cell_type": "code",
      "source": [
        "# String to int\n",
        "year=2023\n",
        "birth_year = input(\"Year of Birth : \")\n",
        "age = year -int(birth_year)\n",
        "print(age)"
      ],
      "metadata": {
        "id": "Hmkq7k32bUKd",
        "colab": {
          "base_uri": "https://localhost:8080/"
        },
        "outputId": "381cfc3f-a8bc-4637-ba51-146456700212"
      },
      "execution_count": null,
      "outputs": [
        {
          "output_type": "stream",
          "name": "stdout",
          "text": [
            "Year of Birth : 1995\n",
            "28\n"
          ]
        }
      ]
    },
    {
      "cell_type": "code",
      "source": [
        "# Int to str\n",
        "fav_no = 13\n",
        "type(fav_no)"
      ],
      "metadata": {
        "colab": {
          "base_uri": "https://localhost:8080/"
        },
        "id": "h0LdsktWfe8W",
        "outputId": "998ec5a6-fa42-4656-f1dc-4809684b9288"
      },
      "execution_count": null,
      "outputs": [
        {
          "output_type": "execute_result",
          "data": {
            "text/plain": [
              "int"
            ]
          },
          "metadata": {},
          "execution_count": 40
        }
      ]
    },
    {
      "cell_type": "code",
      "source": [
        "print(type(\"13\"))"
      ],
      "metadata": {
        "colab": {
          "base_uri": "https://localhost:8080/"
        },
        "id": "WUXbHwzKflZp",
        "outputId": "9f9b3b95-222d-4db1-f6bb-f53ee096f26a"
      },
      "execution_count": null,
      "outputs": [
        {
          "output_type": "stream",
          "name": "stdout",
          "text": [
            "<class 'str'>\n"
          ]
        }
      ]
    },
    {
      "cell_type": "code",
      "source": [
        "#str to float\n",
        "a = input(\"Enter float point : \")\n",
        "type(a)"
      ],
      "metadata": {
        "colab": {
          "base_uri": "https://localhost:8080/"
        },
        "id": "rr2uc5pef4x_",
        "outputId": "c7198a2c-8c31-493d-c067-bb322bed958e"
      },
      "execution_count": null,
      "outputs": [
        {
          "name": "stdout",
          "output_type": "stream",
          "text": [
            "Enter float point : 1.2\n"
          ]
        },
        {
          "output_type": "execute_result",
          "data": {
            "text/plain": [
              "str"
            ]
          },
          "metadata": {},
          "execution_count": 42
        }
      ]
    },
    {
      "cell_type": "code",
      "source": [
        "b=input('Enter Float Value :')\n",
        "b = float(b)\n",
        "type(b)"
      ],
      "metadata": {
        "colab": {
          "base_uri": "https://localhost:8080/"
        },
        "id": "FacCx-dcgbyx",
        "outputId": "9554dce7-267f-42b0-92d7-9cbd9a6de9a2"
      },
      "execution_count": null,
      "outputs": [
        {
          "name": "stdout",
          "output_type": "stream",
          "text": [
            "Enter Float Value :2.4\n"
          ]
        },
        {
          "output_type": "execute_result",
          "data": {
            "text/plain": [
              "float"
            ]
          },
          "metadata": {},
          "execution_count": 43
        }
      ]
    },
    {
      "cell_type": "markdown",
      "source": [
        "## Get the character at position 1 of a string"
      ],
      "metadata": {
        "id": "g5rZ_dwhI8b2"
      }
    },
    {
      "cell_type": "code",
      "source": [
        "print(\"Shukran Dhuniya\"[0])"
      ],
      "metadata": {
        "id": "vnEgQfbMJLYX",
        "colab": {
          "base_uri": "https://localhost:8080/"
        },
        "outputId": "7dd70ea4-3f83-4716-cddf-766e08c067d1"
      },
      "execution_count": null,
      "outputs": [
        {
          "output_type": "stream",
          "name": "stdout",
          "text": [
            "S\n"
          ]
        }
      ]
    },
    {
      "cell_type": "markdown",
      "source": [
        "##Get the characters from postion 2 to 5 (no included)"
      ],
      "metadata": {
        "id": "QVoEABVEJMIq"
      }
    },
    {
      "cell_type": "code",
      "source": [
        "print(\"Shukran Dhuniya\"[2:5])"
      ],
      "metadata": {
        "id": "hcHGB1QOMLAD",
        "colab": {
          "base_uri": "https://localhost:8080/"
        },
        "outputId": "b2394840-375a-4793-bc85-baa60bf197b1"
      },
      "execution_count": null,
      "outputs": [
        {
          "output_type": "stream",
          "name": "stdout",
          "text": [
            "ukr\n"
          ]
        }
      ]
    },
    {
      "cell_type": "markdown",
      "source": [
        "\n",
        "\n",
        "```\n",
        "# This is formatted as code\n",
        "```\n",
        "\n",
        "##Remove whitespace from the beginning or at the end of a string "
      ],
      "metadata": {
        "id": "U-2k9bV-MPN9"
      }
    },
    {
      "cell_type": "code",
      "source": [
        "g = \"         Greetings          \"\n",
        "remove = g.strip()\n",
        "print(remove,\"How is you ???\")"
      ],
      "metadata": {
        "id": "XPkyOUjCMi-e",
        "colab": {
          "base_uri": "https://localhost:8080/"
        },
        "outputId": "780231c9-6793-4891-a7cf-eecdcc80094c"
      },
      "execution_count": null,
      "outputs": [
        {
          "output_type": "stream",
          "name": "stdout",
          "text": [
            "Greetings How is you ???\n"
          ]
        }
      ]
    },
    {
      "cell_type": "markdown",
      "source": [
        "## Return the lenght of a string"
      ],
      "metadata": {
        "id": "4wJzTxPaMjcH"
      }
    },
    {
      "cell_type": "code",
      "source": [
        "print(len(\"Andaconda Condabanda\"))"
      ],
      "metadata": {
        "id": "RUyIO_p6MsK0",
        "colab": {
          "base_uri": "https://localhost:8080/"
        },
        "outputId": "483e62b3-03d5-42eb-c326-92919de36d68"
      },
      "execution_count": null,
      "outputs": [
        {
          "output_type": "stream",
          "name": "stdout",
          "text": [
            "20\n"
          ]
        }
      ]
    },
    {
      "cell_type": "markdown",
      "source": [
        "## Convert a string to lower case\n"
      ],
      "metadata": {
        "id": "Sr9zHiSMMsng"
      }
    },
    {
      "cell_type": "code",
      "source": [
        "upper_case =\"ASDFGHJKL\"\n",
        "print(upper_case.swapcase())"
      ],
      "metadata": {
        "id": "hRylcNTWMxfz",
        "colab": {
          "base_uri": "https://localhost:8080/"
        },
        "outputId": "fc88f29a-5f9c-47c6-e200-a13167935049"
      },
      "execution_count": null,
      "outputs": [
        {
          "output_type": "stream",
          "name": "stdout",
          "text": [
            "asdfghjkl\n"
          ]
        }
      ]
    },
    {
      "cell_type": "markdown",
      "source": [
        "## Convert a string to upper case\n"
      ],
      "metadata": {
        "id": "6TlIowtRMyCI"
      }
    },
    {
      "cell_type": "code",
      "source": [
        "lower_case =\"qwertyuiop\"\n",
        "print(lower_case.swapcase())"
      ],
      "metadata": {
        "id": "g_jX4MoLQcmv",
        "colab": {
          "base_uri": "https://localhost:8080/"
        },
        "outputId": "95325ac1-5568-47b5-ad23-7b8eb40a239b"
      },
      "execution_count": null,
      "outputs": [
        {
          "output_type": "stream",
          "name": "stdout",
          "text": [
            "QWERTYUIOP\n"
          ]
        }
      ]
    },
    {
      "cell_type": "markdown",
      "source": [
        "## Replace a string with another string "
      ],
      "metadata": {
        "id": "m9hZs_MsQlJe"
      }
    },
    {
      "cell_type": "code",
      "source": [
        "re = \" Replace hoga\"\n",
        "print(re.replace('hoga','Hogaya'))"
      ],
      "metadata": {
        "id": "GTJ2PMrkRLTx",
        "colab": {
          "base_uri": "https://localhost:8080/"
        },
        "outputId": "18b6e0a2-8b31-4b9e-9a6b-14803dc43911"
      },
      "execution_count": null,
      "outputs": [
        {
          "output_type": "stream",
          "name": "stdout",
          "text": [
            " Replace Hogaya\n"
          ]
        }
      ]
    },
    {
      "cell_type": "markdown",
      "source": [
        "## Split a string into substrings"
      ],
      "metadata": {
        "id": "CnjV_AUXQqpr"
      }
    },
    {
      "cell_type": "code",
      "source": [
        "print(re.split())"
      ],
      "metadata": {
        "id": "8EVCCL1iQutI",
        "colab": {
          "base_uri": "https://localhost:8080/"
        },
        "outputId": "53028d08-c069-4651-901f-0bc21d215e7b"
      },
      "execution_count": null,
      "outputs": [
        {
          "output_type": "stream",
          "name": "stdout",
          "text": [
            "['Replace', 'hoga']\n"
          ]
        }
      ]
    },
    {
      "cell_type": "markdown",
      "source": [
        "## Create a list"
      ],
      "metadata": {
        "id": "SU56GWw7RfX9"
      }
    },
    {
      "cell_type": "code",
      "source": [
        "interns =['Ajay','Aboli','Anand','Sahil']\n",
        "interns"
      ],
      "metadata": {
        "id": "DkNZWGpYRkHZ",
        "colab": {
          "base_uri": "https://localhost:8080/"
        },
        "outputId": "1fbddbe3-6423-4734-ec85-734152c52184"
      },
      "execution_count": null,
      "outputs": [
        {
          "output_type": "execute_result",
          "data": {
            "text/plain": [
              "['Ajay', 'Aboli', 'Anand', 'Sahil']"
            ]
          },
          "metadata": {},
          "execution_count": 52
        }
      ]
    },
    {
      "cell_type": "markdown",
      "source": [
        "## Access list items"
      ],
      "metadata": {
        "id": "208mWr08Rk-i"
      }
    },
    {
      "cell_type": "code",
      "source": [
        "intern_1 = interns[0]\n",
        "print(intern_1)"
      ],
      "metadata": {
        "id": "q0XAY3w6RotR",
        "colab": {
          "base_uri": "https://localhost:8080/"
        },
        "outputId": "2dac7414-a70e-4060-9a17-799a5ed3ba88"
      },
      "execution_count": null,
      "outputs": [
        {
          "output_type": "stream",
          "name": "stdout",
          "text": [
            "Ajay\n"
          ]
        }
      ]
    },
    {
      "cell_type": "markdown",
      "source": [
        "\n",
        "## Change the value of a list  item"
      ],
      "metadata": {
        "id": "JBpjSNoDUxBO"
      }
    },
    {
      "cell_type": "code",
      "source": [
        "interns[0] = 'Martin'\n",
        "print(interns)"
      ],
      "metadata": {
        "id": "U8T9H8MMU06t",
        "colab": {
          "base_uri": "https://localhost:8080/"
        },
        "outputId": "b9f074b5-1409-4b77-9b77-f47e7e1794a2"
      },
      "execution_count": null,
      "outputs": [
        {
          "output_type": "stream",
          "name": "stdout",
          "text": [
            "['Martin', 'Aboli', 'Anand', 'Sahil']\n"
          ]
        }
      ]
    },
    {
      "cell_type": "markdown",
      "source": [
        "## Check if a list item exits"
      ],
      "metadata": {
        "id": "_6WlF4tRU7jj"
      }
    },
    {
      "cell_type": "code",
      "source": [
        "exist_kartha ='Ajay' in interns\n",
        "print(exist_kartha)"
      ],
      "metadata": {
        "id": "OVbEPEMxVFVP",
        "colab": {
          "base_uri": "https://localhost:8080/"
        },
        "outputId": "8c954855-e63a-4c12-c047-0b0b15f5b586"
      },
      "execution_count": null,
      "outputs": [
        {
          "output_type": "stream",
          "name": "stdout",
          "text": [
            "False\n"
          ]
        }
      ]
    },
    {
      "cell_type": "markdown",
      "source": [
        "## Get the length of a list"
      ],
      "metadata": {
        "id": "lGR_c2ZGVGAv"
      }
    },
    {
      "cell_type": "code",
      "source": [
        "print(len(interns))"
      ],
      "metadata": {
        "id": "ZMr-dw1RVMU-",
        "colab": {
          "base_uri": "https://localhost:8080/"
        },
        "outputId": "7d36de94-b7c1-4d84-ccc2-014144de0251"
      },
      "execution_count": null,
      "outputs": [
        {
          "output_type": "stream",
          "name": "stdout",
          "text": [
            "4\n"
          ]
        }
      ]
    },
    {
      "cell_type": "markdown",
      "source": [
        "## Add an item at a specified index "
      ],
      "metadata": {
        "id": "zGIlCslNVL2T"
      }
    },
    {
      "cell_type": "code",
      "source": [
        "interns.insert(0,'Ajay')\n",
        "interns.insert(-1,\"Shettigar\")\n",
        "interns"
      ],
      "metadata": {
        "id": "hBIjNOTGVTL0",
        "colab": {
          "base_uri": "https://localhost:8080/"
        },
        "outputId": "5d5d90d9-c6b7-4682-dd17-28aeb71dcb1e"
      },
      "execution_count": null,
      "outputs": [
        {
          "output_type": "execute_result",
          "data": {
            "text/plain": [
              "['Ajay', 'Martin', 'Aboli', 'Anand', 'Shettigar', 'Sahil']"
            ]
          },
          "metadata": {},
          "execution_count": 57
        }
      ]
    },
    {
      "cell_type": "markdown",
      "source": [
        "## Remove an item"
      ],
      "metadata": {
        "id": "TyYTrKvXVfey"
      }
    },
    {
      "cell_type": "code",
      "source": [
        "interns.remove('Martin')\n",
        "interns"
      ],
      "metadata": {
        "id": "hT6tL5QnVl51",
        "colab": {
          "base_uri": "https://localhost:8080/"
        },
        "outputId": "af8ad0ca-9db4-4b48-9b56-143403a0bd44"
      },
      "execution_count": null,
      "outputs": [
        {
          "output_type": "execute_result",
          "data": {
            "text/plain": [
              "['Ajay', 'Aboli', 'Anand', 'Shettigar', 'Sahil']"
            ]
          },
          "metadata": {},
          "execution_count": 58
        }
      ]
    },
    {
      "cell_type": "markdown",
      "source": [
        "##Remove the last item  "
      ],
      "metadata": {
        "id": "NISwK23kVmaV"
      }
    },
    {
      "cell_type": "code",
      "source": [
        "del interns[-1]\n",
        "interns"
      ],
      "metadata": {
        "id": "iAVgMc-3Vqyh",
        "colab": {
          "base_uri": "https://localhost:8080/"
        },
        "outputId": "77000dc1-4ab6-4128-8665-6472005911db"
      },
      "execution_count": null,
      "outputs": [
        {
          "output_type": "execute_result",
          "data": {
            "text/plain": [
              "['Ajay', 'Aboli', 'Anand', 'Shettigar']"
            ]
          },
          "metadata": {},
          "execution_count": 64
        }
      ]
    },
    {
      "cell_type": "markdown",
      "source": [
        "## Remove an item at a specified index"
      ],
      "metadata": {
        "id": "SyxyX9RiVrJ4"
      }
    },
    {
      "cell_type": "code",
      "source": [
        "interns.pop(3)\n",
        "interns"
      ],
      "metadata": {
        "id": "FHZcEvEvV5Z2",
        "colab": {
          "base_uri": "https://localhost:8080/"
        },
        "outputId": "fd2414b9-17f4-483b-a6bd-6a5791c0c764"
      },
      "execution_count": null,
      "outputs": [
        {
          "output_type": "execute_result",
          "data": {
            "text/plain": [
              "['Ajay', 'Aboli', 'Anand']"
            ]
          },
          "metadata": {},
          "execution_count": 67
        }
      ]
    },
    {
      "cell_type": "markdown",
      "source": [
        "##Empty a list"
      ],
      "metadata": {
        "id": "Mr7XKP98V56w"
      }
    },
    {
      "cell_type": "code",
      "source": [
        "interns.clear()\n",
        "interns"
      ],
      "metadata": {
        "id": "8ulyfFVgWI7X",
        "colab": {
          "base_uri": "https://localhost:8080/"
        },
        "outputId": "6838f5e7-cd8e-4765-c676-56774bf57b7b"
      },
      "execution_count": null,
      "outputs": [
        {
          "output_type": "execute_result",
          "data": {
            "text/plain": [
              "[]"
            ]
          },
          "metadata": {},
          "execution_count": 68
        }
      ]
    },
    {
      "cell_type": "markdown",
      "source": [
        "## Using the list() contructor to make a list"
      ],
      "metadata": {
        "id": "qMijaGI9WKYF"
      }
    },
    {
      "cell_type": "code",
      "source": [],
      "metadata": {
        "id": "RRovWKIQWRD7"
      },
      "execution_count": null,
      "outputs": []
    },
    {
      "cell_type": "code",
      "source": [],
      "metadata": {
        "id": "E2NaEHSOBtw8"
      },
      "execution_count": null,
      "outputs": []
    },
    {
      "cell_type": "markdown",
      "source": [
        "# Day 3"
      ],
      "metadata": {
        "id": "tHEpvveH0M2M"
      }
    },
    {
      "cell_type": "markdown",
      "source": [
        "##Create a tuple"
      ],
      "metadata": {
        "id": "UFHAIWXl0Sq2"
      }
    },
    {
      "cell_type": "code",
      "source": [
        "tup = ('a','b','c')\n",
        "print(type(tup))"
      ],
      "metadata": {
        "id": "lSEettpm0VTl",
        "colab": {
          "base_uri": "https://localhost:8080/"
        },
        "outputId": "690f4e19-71d8-45ea-f5da-f39849c7f7d9"
      },
      "execution_count": null,
      "outputs": [
        {
          "output_type": "stream",
          "name": "stdout",
          "text": [
            "<class 'tuple'>\n"
          ]
        }
      ]
    },
    {
      "cell_type": "markdown",
      "source": [
        "##Access tuple items"
      ],
      "metadata": {
        "id": "GADPydcm0V23"
      }
    },
    {
      "cell_type": "code",
      "source": [
        "city = (\"Mumbai\", \"Chennai\",\"Delhi\",\"Karnataka\")\n",
        "city1 = city[0]\n",
        "city2 = city[1]\n",
        "print(city1)\n",
        "print(city2)"
      ],
      "metadata": {
        "id": "DFvyGjT-0ZKN",
        "colab": {
          "base_uri": "https://localhost:8080/"
        },
        "outputId": "3211c0c7-6552-44c2-83a4-c9986ad17dea"
      },
      "execution_count": null,
      "outputs": [
        {
          "output_type": "stream",
          "name": "stdout",
          "text": [
            "Mumbai\n",
            "Chennai\n"
          ]
        }
      ]
    },
    {
      "cell_type": "markdown",
      "source": [
        "## Change tuple values"
      ],
      "metadata": {
        "id": "pDFX2mmr0ZsW"
      }
    },
    {
      "cell_type": "code",
      "source": [
        "x =(\"Lion\",\"Cheetha\",\"Dianasor\")\n",
        "y = list(x)\n",
        "y[1] = \"Tiger\"\n",
        "x =tuple(y)"
      ],
      "metadata": {
        "id": "z4VqcrD_0cVU"
      },
      "execution_count": null,
      "outputs": []
    },
    {
      "cell_type": "markdown",
      "source": [
        "## Loop through a tuple"
      ],
      "metadata": {
        "id": "FqxM9m4-0fpV"
      }
    },
    {
      "cell_type": "code",
      "source": [
        "i = 0\n",
        "while i < len(city):\n",
        "  print(city[i])\n",
        "  i=i+1"
      ],
      "metadata": {
        "id": "sjlZLGW_0l-T",
        "colab": {
          "base_uri": "https://localhost:8080/"
        },
        "outputId": "dd428057-a1b6-4c92-8474-4648d0df5886"
      },
      "execution_count": null,
      "outputs": [
        {
          "output_type": "stream",
          "name": "stdout",
          "text": [
            "Mumbai\n",
            "Chennai\n",
            "Delhi\n",
            "Karnataka\n"
          ]
        }
      ]
    },
    {
      "cell_type": "markdown",
      "source": [
        "##Check if a tuple item exists"
      ],
      "metadata": {
        "id": "zzC8yIva0jUI"
      }
    },
    {
      "cell_type": "code",
      "source": [
        "'Mumbai' in city"
      ],
      "metadata": {
        "id": "EeguKIBr0mTx",
        "colab": {
          "base_uri": "https://localhost:8080/"
        },
        "outputId": "d543f3d4-82a0-4bf7-fb00-1d6e398dd9a0"
      },
      "execution_count": null,
      "outputs": [
        {
          "output_type": "execute_result",
          "data": {
            "text/plain": [
              "True"
            ]
          },
          "metadata": {},
          "execution_count": 6
        }
      ]
    },
    {
      "cell_type": "markdown",
      "source": [
        "## Get the length of a tuple"
      ],
      "metadata": {
        "id": "n3rX5eOZ0oE2"
      }
    },
    {
      "cell_type": "code",
      "source": [
        "len(city)"
      ],
      "metadata": {
        "id": "AGye8PBH0gN-",
        "colab": {
          "base_uri": "https://localhost:8080/"
        },
        "outputId": "d12f4f65-7b32-4b22-8492-0c51ccf14c37"
      },
      "execution_count": null,
      "outputs": [
        {
          "output_type": "execute_result",
          "data": {
            "text/plain": [
              "4"
            ]
          },
          "metadata": {},
          "execution_count": 7
        }
      ]
    },
    {
      "cell_type": "markdown",
      "source": [
        "## Delete a tuple"
      ],
      "metadata": {
        "id": "vf_NhuqA0r-7"
      }
    },
    {
      "cell_type": "code",
      "source": [
        "del city"
      ],
      "metadata": {
        "id": "GLBPKk5s0uqC"
      },
      "execution_count": null,
      "outputs": []
    },
    {
      "cell_type": "markdown",
      "source": [
        "## Using the tuple() constructor to create a tuple"
      ],
      "metadata": {
        "id": "sXLHoDNz0vjT"
      }
    },
    {
      "cell_type": "code",
      "source": [
        "channel = (\"AXN\",\"Mtv\",\"HBO\",\"ESPN\")\n",
        "y = list(channel)\n",
        "channel = tuple(y)\n",
        "print(x)"
      ],
      "metadata": {
        "id": "EOldOS8k0vR9",
        "colab": {
          "base_uri": "https://localhost:8080/"
        },
        "outputId": "542652f7-d6ab-4bfa-8ad4-aedc28f8f3e7"
      },
      "execution_count": null,
      "outputs": [
        {
          "output_type": "stream",
          "name": "stdout",
          "text": [
            "('Lion', 'Tiger', 'Dianasor')\n"
          ]
        }
      ]
    },
    {
      "cell_type": "markdown",
      "source": [
        "## Create a set"
      ],
      "metadata": {
        "id": "_2qjJAHF04-Y"
      }
    },
    {
      "cell_type": "code",
      "source": [
        "st = {'Yellow',\"Pink\",\"Red\",\"Blue\"}\n",
        "st"
      ],
      "metadata": {
        "id": "fj3P6g7w03AR",
        "colab": {
          "base_uri": "https://localhost:8080/"
        },
        "outputId": "6edeeaf0-9006-40d9-c16f-d619fb038a52"
      },
      "execution_count": null,
      "outputs": [
        {
          "output_type": "execute_result",
          "data": {
            "text/plain": [
              "{'Blue', 'Pink', 'Red', 'Yellow'}"
            ]
          },
          "metadata": {},
          "execution_count": 62
        }
      ]
    },
    {
      "cell_type": "markdown",
      "source": [
        "## Loop through a set"
      ],
      "metadata": {
        "id": "JrY4dX8M06ob"
      }
    },
    {
      "cell_type": "code",
      "source": [
        "for val in st:\n",
        "    print(val)"
      ],
      "metadata": {
        "id": "X31c7kDb09xQ",
        "colab": {
          "base_uri": "https://localhost:8080/"
        },
        "outputId": "c5c3f5db-7f3a-4be6-f5d1-4bac5d10d7b7"
      },
      "execution_count": null,
      "outputs": [
        {
          "output_type": "stream",
          "name": "stdout",
          "text": [
            "Red\n",
            "Pink\n",
            "Blue\n",
            "Yellow\n"
          ]
        }
      ]
    },
    {
      "cell_type": "markdown",
      "source": [
        "## Check if an item exists"
      ],
      "metadata": {
        "id": "txMP7zzQ0_9E"
      }
    },
    {
      "cell_type": "code",
      "source": [
        "print(\"this Set Contains Red : \",\"Red\" in st)\n",
        "print(\"this Set Contains purple : \",\"Purple\" in st)"
      ],
      "metadata": {
        "id": "904WMyDI0-g1",
        "colab": {
          "base_uri": "https://localhost:8080/"
        },
        "outputId": "09610ede-2b6a-4d25-a00f-4f1d546bc6f1"
      },
      "execution_count": null,
      "outputs": [
        {
          "output_type": "stream",
          "name": "stdout",
          "text": [
            "this Set Contains Red :  True\n",
            "this Set Contains purple :  False\n"
          ]
        }
      ]
    },
    {
      "cell_type": "markdown",
      "source": [
        "## Add an item to a set"
      ],
      "metadata": {
        "id": "EFJoVl0k1GJB"
      }
    },
    {
      "cell_type": "code",
      "source": [
        "st.add(\"Green\")\n",
        "st"
      ],
      "metadata": {
        "id": "wkbcB1kV1J0C",
        "colab": {
          "base_uri": "https://localhost:8080/"
        },
        "outputId": "e6b68192-7b73-481e-d4b3-92b57a814914"
      },
      "execution_count": null,
      "outputs": [
        {
          "output_type": "execute_result",
          "data": {
            "text/plain": [
              "{'Blue', 'Green', 'Pink', 'Red', 'Yellow'}"
            ]
          },
          "metadata": {},
          "execution_count": 23
        }
      ]
    },
    {
      "cell_type": "markdown",
      "source": [
        "## Add multiple items to a set"
      ],
      "metadata": {
        "id": "Dbj9QmHA1Kct"
      }
    },
    {
      "cell_type": "code",
      "source": [
        "st.update([\"Black\",\"Cyan\"])\n",
        "st"
      ],
      "metadata": {
        "id": "VlEY9isS1OiV",
        "colab": {
          "base_uri": "https://localhost:8080/"
        },
        "outputId": "59715ac4-0016-4160-8a1e-9066933152fd"
      },
      "execution_count": null,
      "outputs": [
        {
          "output_type": "execute_result",
          "data": {
            "text/plain": [
              "{'Black', 'Blue', 'Cyan', 'Green', 'Pink', 'Red', 'Yellow'}"
            ]
          },
          "metadata": {},
          "execution_count": 27
        }
      ]
    },
    {
      "cell_type": "markdown",
      "source": [
        "## Get the length of a set"
      ],
      "metadata": {
        "id": "4xgI2f-b1PVL"
      }
    },
    {
      "cell_type": "code",
      "source": [
        "len(st)"
      ],
      "metadata": {
        "id": "Jb_IayAL1Rfd",
        "colab": {
          "base_uri": "https://localhost:8080/"
        },
        "outputId": "44bf23d8-8dd2-455a-bccf-605fcd1e7f18"
      },
      "execution_count": null,
      "outputs": [
        {
          "output_type": "execute_result",
          "data": {
            "text/plain": [
              "7"
            ]
          },
          "metadata": {},
          "execution_count": 28
        }
      ]
    },
    {
      "cell_type": "markdown",
      "source": [
        "## Remove an item in a set"
      ],
      "metadata": {
        "id": "2LAX8hJG1Tt2"
      }
    },
    {
      "cell_type": "code",
      "source": [
        "st.remove(\"Cyan\")\n",
        "st"
      ],
      "metadata": {
        "id": "BQvv_z7c1Ubt",
        "colab": {
          "base_uri": "https://localhost:8080/"
        },
        "outputId": "7e920b5a-320b-4f01-ba39-943e843beee4"
      },
      "execution_count": null,
      "outputs": [
        {
          "output_type": "execute_result",
          "data": {
            "text/plain": [
              "{'Black', 'Blue', 'Green', 'Pink', 'Red', 'Yellow'}"
            ]
          },
          "metadata": {},
          "execution_count": 29
        }
      ]
    },
    {
      "cell_type": "markdown",
      "source": [
        "##Remove an item in a set by using the discard() method"
      ],
      "metadata": {
        "id": "WZ3l0yhT1U4A"
      }
    },
    {
      "cell_type": "code",
      "source": [
        "st.discard(\"Black\")\n",
        "st"
      ],
      "metadata": {
        "id": "7IFdWww91YG6",
        "colab": {
          "base_uri": "https://localhost:8080/"
        },
        "outputId": "8415a850-f0d3-43dd-948a-7ed6c1152f12"
      },
      "execution_count": null,
      "outputs": [
        {
          "output_type": "execute_result",
          "data": {
            "text/plain": [
              "{'Blue', 'Green', 'Pink', 'Red', 'Yellow'}"
            ]
          },
          "metadata": {},
          "execution_count": 30
        }
      ]
    },
    {
      "cell_type": "markdown",
      "source": [
        "##Remove the last item in a set by using the pop() method"
      ],
      "metadata": {
        "id": "pUdE8glf1Y50"
      }
    },
    {
      "cell_type": "code",
      "source": [
        "st.pop()"
      ],
      "metadata": {
        "id": "qm13KsMr1b9l",
        "colab": {
          "base_uri": "https://localhost:8080/",
          "height": 36
        },
        "outputId": "60ccbee5-b546-419d-91c0-acb1bbffdcec"
      },
      "execution_count": null,
      "outputs": [
        {
          "output_type": "execute_result",
          "data": {
            "text/plain": [
              "'Yellow'"
            ],
            "application/vnd.google.colaboratory.intrinsic+json": {
              "type": "string"
            }
          },
          "metadata": {},
          "execution_count": 36
        }
      ]
    },
    {
      "cell_type": "markdown",
      "source": [
        "## Empty a set"
      ],
      "metadata": {
        "id": "YEQARzPN1eBk"
      }
    },
    {
      "cell_type": "code",
      "source": [
        "st.clear()\n",
        "st"
      ],
      "metadata": {
        "id": "v80lLDtn1hPR",
        "colab": {
          "base_uri": "https://localhost:8080/"
        },
        "outputId": "f8d6184d-3555-4b98-8143-df85ef5f13fa"
      },
      "execution_count": null,
      "outputs": [
        {
          "output_type": "execute_result",
          "data": {
            "text/plain": [
              "set()"
            ]
          },
          "metadata": {},
          "execution_count": 38
        }
      ]
    },
    {
      "cell_type": "markdown",
      "source": [
        "##Delete a set"
      ],
      "metadata": {
        "id": "hBEoOyN-1jtx"
      }
    },
    {
      "cell_type": "code",
      "source": [
        "del st"
      ],
      "metadata": {
        "id": "FmgxGUD41lKh"
      },
      "execution_count": null,
      "outputs": []
    },
    {
      "cell_type": "markdown",
      "source": [
        "##Using the set() constructor to create a set"
      ],
      "metadata": {
        "id": "iF2AweYY1qhr"
      }
    },
    {
      "cell_type": "code",
      "source": [
        "st = set()\n",
        "st.update(\"A\",\"B\",\"C\",\"D\")\n",
        "st"
      ],
      "metadata": {
        "id": "ntlBvfGS1sDw",
        "colab": {
          "base_uri": "https://localhost:8080/"
        },
        "outputId": "f0ea0d1a-8d2e-4c4c-ecb2-66a59b11bbbf"
      },
      "execution_count": null,
      "outputs": [
        {
          "output_type": "execute_result",
          "data": {
            "text/plain": [
              "{'A', 'B', 'C', 'D'}"
            ]
          },
          "metadata": {},
          "execution_count": 43
        }
      ]
    },
    {
      "cell_type": "markdown",
      "source": [
        "## Create a dictionary"
      ],
      "metadata": {
        "id": "saJx68jP1sf_"
      }
    },
    {
      "cell_type": "code",
      "source": [
        "me = {\n",
        "    \"first_name\":\"Alwarpettai\",\n",
        "    \"Last_name\":\"Martin\",\n",
        "    \"Age\":\"21\",\n",
        "    \"Country\":\"Bharat\",\n",
        "    \"Skills\":['Statistics','Tablue','Confidence','Churan'] \n",
        "}"
      ],
      "metadata": {
        "id": "5PWZU3Ty1wlF"
      },
      "execution_count": null,
      "outputs": []
    },
    {
      "cell_type": "markdown",
      "source": [
        "## Access the items of a dictionary"
      ],
      "metadata": {
        "id": "G9haiseP1yMr"
      }
    },
    {
      "cell_type": "code",
      "source": [
        "print(me['Skills'])"
      ],
      "metadata": {
        "id": "2aGftwbv1ypr",
        "colab": {
          "base_uri": "https://localhost:8080/"
        },
        "outputId": "4476324c-00e6-4e2a-b865-4c6869caecff"
      },
      "execution_count": null,
      "outputs": [
        {
          "output_type": "stream",
          "name": "stdout",
          "text": [
            "['Statistics', 'Tablue', 'Confidence', 'Churan']\n"
          ]
        }
      ]
    },
    {
      "cell_type": "markdown",
      "source": [
        "## Change the value of a specific item in a dictionary"
      ],
      "metadata": {
        "id": "Ebmk2vbw11YY"
      }
    },
    {
      "cell_type": "code",
      "source": [
        "me[\"first_name\"] = \"Ajay\"\n",
        "me"
      ],
      "metadata": {
        "id": "qQeskrSR11wP",
        "colab": {
          "base_uri": "https://localhost:8080/"
        },
        "outputId": "3e13da94-f4af-4356-c7f0-34f0c5f20167"
      },
      "execution_count": null,
      "outputs": [
        {
          "output_type": "execute_result",
          "data": {
            "text/plain": [
              "{'first_name': 'Ajay',\n",
              " 'Last_name': 'Martin',\n",
              " 'Age': '21',\n",
              " 'Country': 'Bharat',\n",
              " 'Skills': ['Statistics', 'Tablue', 'Confidence', 'Churan']}"
            ]
          },
          "metadata": {},
          "execution_count": 48
        }
      ]
    },
    {
      "cell_type": "markdown",
      "source": [
        "## Print all key names in a dictionary, one by one"
      ],
      "metadata": {
        "id": "ZMc1fhgf133q"
      }
    },
    {
      "cell_type": "code",
      "source": [
        "print(me.keys())"
      ],
      "metadata": {
        "id": "Qfp0SywP14h7",
        "colab": {
          "base_uri": "https://localhost:8080/"
        },
        "outputId": "9c04446c-a2e9-4d76-8fca-3654cf0cdbbc"
      },
      "execution_count": null,
      "outputs": [
        {
          "output_type": "stream",
          "name": "stdout",
          "text": [
            "dict_keys(['first_name', 'Last_name', 'Age', 'Country', 'Skills'])\n"
          ]
        }
      ]
    },
    {
      "cell_type": "markdown",
      "source": [
        "## Print all values in a dictionary, one by one"
      ],
      "metadata": {
        "id": "XiWJIG9q17U2"
      }
    },
    {
      "cell_type": "code",
      "source": [
        "for values in me.values():\n",
        "  print(values)"
      ],
      "metadata": {
        "id": "w_trJp7y17-D",
        "colab": {
          "base_uri": "https://localhost:8080/"
        },
        "outputId": "df5947df-ccf4-438e-e4ca-45d2ea5ffe22"
      },
      "execution_count": null,
      "outputs": [
        {
          "output_type": "stream",
          "name": "stdout",
          "text": [
            "Ajay\n",
            "Martin\n",
            "21\n",
            "Bharat\n",
            "['Statistics', 'Tablue', 'Confidence', 'Churan']\n"
          ]
        }
      ]
    },
    {
      "cell_type": "markdown",
      "source": [
        "## Using the values() function to return values of a dictionary"
      ],
      "metadata": {
        "id": "ix5GJxcc1_nK"
      }
    },
    {
      "cell_type": "code",
      "source": [
        "for values in me.values():\n",
        "  print(values)"
      ],
      "metadata": {
        "id": "nHtRXWdg2AIL",
        "colab": {
          "base_uri": "https://localhost:8080/"
        },
        "outputId": "fa24c4ce-5740-483e-8ac5-b2dba0b93f13"
      },
      "execution_count": null,
      "outputs": [
        {
          "output_type": "stream",
          "name": "stdout",
          "text": [
            "Ajay\n",
            "Martin\n",
            "21\n",
            "Bharat\n",
            "['Statistics', 'Tablue', 'Confidence', 'Churan']\n"
          ]
        }
      ]
    },
    {
      "cell_type": "markdown",
      "source": [
        "##Loop through both keys an values, by using the items() function"
      ],
      "metadata": {
        "id": "rfxDOaxp2Deo"
      }
    },
    {
      "cell_type": "code",
      "source": [
        "for key,value in me.items():\n",
        "  print(key,value)"
      ],
      "metadata": {
        "id": "9Kir0DJo2EtW",
        "colab": {
          "base_uri": "https://localhost:8080/"
        },
        "outputId": "1584f414-a990-47bd-ce22-6c196dec7bb3"
      },
      "execution_count": null,
      "outputs": [
        {
          "output_type": "stream",
          "name": "stdout",
          "text": [
            "first_name Ajay\n",
            "Last_name Martin\n",
            "Age 21\n",
            "Country Bharat\n",
            "Skills ['Statistics', 'Tablue', 'Confidence', 'Churan']\n"
          ]
        }
      ]
    },
    {
      "cell_type": "markdown",
      "source": [
        "## Check if a key existsGet the length of a dictionary"
      ],
      "metadata": {
        "id": "Na_KZOXs2Gtn"
      }
    },
    {
      "cell_type": "code",
      "source": [
        "chk=input('enter the value')\n",
        "if chk in me:\n",
        "  print('key exists')\n",
        "else:\n",
        "  print('key does not exists')"
      ],
      "metadata": {
        "id": "BxsHgQMW2JGn",
        "colab": {
          "base_uri": "https://localhost:8080/"
        },
        "outputId": "b2227af3-792d-430f-f32e-1abc937659eb"
      },
      "execution_count": null,
      "outputs": [
        {
          "output_type": "stream",
          "name": "stdout",
          "text": [
            "enter the valueAge\n",
            "key exists\n"
          ]
        }
      ]
    },
    {
      "cell_type": "markdown",
      "source": [
        "## Add an item to a dictionary"
      ],
      "metadata": {
        "id": "mggVUA4E2LOt"
      }
    },
    {
      "cell_type": "code",
      "source": [
        "me.update({'Species':'Cat'})\n",
        "print(me)"
      ],
      "metadata": {
        "id": "L458Fy7U2LrS",
        "colab": {
          "base_uri": "https://localhost:8080/"
        },
        "outputId": "65e3abd8-4bae-44f1-9a1e-7c6f77e64e53"
      },
      "execution_count": null,
      "outputs": [
        {
          "output_type": "stream",
          "name": "stdout",
          "text": [
            "{'first_name': 'Ajay', 'Last_name': 'Martin', 'Age': '21', 'Country': 'Bharat', 'Skills': ['Statistics', 'Tablue', 'Confidence', 'Churan'], 'Species': 'Cat'}\n"
          ]
        }
      ]
    },
    {
      "cell_type": "markdown",
      "source": [
        "##Remove an item from a dictionary"
      ],
      "metadata": {
        "id": "isnMS4HF2Nyy"
      }
    },
    {
      "cell_type": "code",
      "source": [
        "del me[\"Skills\"]\n",
        "print(me)"
      ],
      "metadata": {
        "id": "psqBrGG02OiV",
        "colab": {
          "base_uri": "https://localhost:8080/"
        },
        "outputId": "c0ee940c-8dd7-41a8-a6fd-77abbf19ab29"
      },
      "execution_count": null,
      "outputs": [
        {
          "output_type": "stream",
          "name": "stdout",
          "text": [
            "{'first_name': 'Ajay', 'Last_name': 'Martin', 'Age': '21', 'Country': 'Bharat', 'Species': 'Cat'}\n"
          ]
        }
      ]
    },
    {
      "cell_type": "markdown",
      "source": [
        "## Empty a dictionary"
      ],
      "metadata": {
        "id": "0Yj0t3LS2QfG"
      }
    },
    {
      "cell_type": "code",
      "source": [
        "me.clear()\n",
        "me"
      ],
      "metadata": {
        "id": "XVelpwQb2RAw",
        "colab": {
          "base_uri": "https://localhost:8080/"
        },
        "outputId": "3ec63b79-edcb-409d-fe9c-5f3570b7bf41"
      },
      "execution_count": null,
      "outputs": [
        {
          "output_type": "execute_result",
          "data": {
            "text/plain": [
              "{}"
            ]
          },
          "metadata": {},
          "execution_count": 59
        }
      ]
    },
    {
      "cell_type": "markdown",
      "source": [
        "## Using the dict() constructor to create a dictionary"
      ],
      "metadata": {
        "id": "FT0TnddU2Tmb"
      }
    },
    {
      "cell_type": "code",
      "source": [
        "ma=dict(Name='Ajay',Gender='Male',YOB=1995)\n",
        "print(ma)"
      ],
      "metadata": {
        "id": "Sa5A_JIN2URb",
        "colab": {
          "base_uri": "https://localhost:8080/"
        },
        "outputId": "c48cb471-9d9c-417c-a0de-650e6014c637"
      },
      "execution_count": null,
      "outputs": [
        {
          "output_type": "stream",
          "name": "stdout",
          "text": [
            "{'Name': 'Ajay', 'Gender': 'Male', 'YOB': 1995}\n"
          ]
        }
      ]
    },
    {
      "cell_type": "code",
      "source": [],
      "metadata": {
        "id": "8xXo5WpG4ZQj"
      },
      "execution_count": null,
      "outputs": []
    },
    {
      "cell_type": "markdown",
      "source": [
        "#Day4"
      ],
      "metadata": {
        "id": "x6guHXMTtwC5"
      }
    },
    {
      "cell_type": "markdown",
      "source": [
        "##Write a program that takes a positive integer from user and returns the cube of that number."
      ],
      "metadata": {
        "id": "5j7vUR4juf3o"
      }
    },
    {
      "cell_type": "code",
      "source": [
        "c = int(input())\n",
        "cube = c*c*c\n",
        "print(\"Cube of 2 is\",cube)"
      ],
      "metadata": {
        "id": "Tr0Uf1Wnt9FQ",
        "colab": {
          "base_uri": "https://localhost:8080/"
        },
        "outputId": "5d195c08-6c87-4bd2-ca28-ecb835576923"
      },
      "execution_count": null,
      "outputs": [
        {
          "output_type": "stream",
          "name": "stdout",
          "text": [
            "4\n",
            "Cube of 2 is 64\n"
          ]
        }
      ]
    },
    {
      "cell_type": "markdown",
      "source": [
        "## Write a program to find the maximum and minimum numbers from a list"
      ],
      "metadata": {
        "id": "YX10kZ9rwVMB"
      }
    },
    {
      "cell_type": "code",
      "source": [
        "list1,list2 = [1,2,3,4,5,6,7,8,9,],[15,16,18,20,]\n",
        "print(\"max value of list 1 is\",max(list1))\n",
        "print(\"min value of list 2 is\",min(list2))"
      ],
      "metadata": {
        "id": "hqlYwx8jwXNK",
        "colab": {
          "base_uri": "https://localhost:8080/"
        },
        "outputId": "f01c7ea2-2a9d-46df-f7f5-9bbec7b00df9"
      },
      "execution_count": null,
      "outputs": [
        {
          "output_type": "stream",
          "name": "stdout",
          "text": [
            "max value of list 1 is 9\n",
            "min value of list 2 is 15\n"
          ]
        }
      ]
    },
    {
      "cell_type": "markdown",
      "source": [
        "##Write a Python code to check whether a number is divisible by another number. Accept two integers values form the user"
      ],
      "metadata": {
        "id": "EUsTZjpxwiqd"
      }
    },
    {
      "cell_type": "code",
      "source": [
        "num = int(input(\"Enter no to check divisibl = \"))\n",
        "div = int(input(\"Enter no to devide = \"))\n",
        "if num%div == 0:\n",
        "  print(\"Divisible hai\")\n",
        "else:\n",
        "  print(\"Nahi hai divisible\")"
      ],
      "metadata": {
        "id": "oZIrymfOwnTO",
        "colab": {
          "base_uri": "https://localhost:8080/"
        },
        "outputId": "ede34468-0dd0-4f83-d5f7-e05381d4e93f"
      },
      "execution_count": null,
      "outputs": [
        {
          "output_type": "stream",
          "name": "stdout",
          "text": [
            "Enter no to check divisibl = 14\n",
            "Enter no to devide = 7\n",
            "Divisible hai\n"
          ]
        }
      ]
    },
    {
      "cell_type": "markdown",
      "source": [
        "##Write a Python program to valid a IP address"
      ],
      "metadata": {
        "id": "iW784TYVaIIf"
      }
    },
    {
      "cell_type": "code",
      "source": [],
      "metadata": {
        "id": "oaWILG_XaJOP"
      },
      "execution_count": null,
      "outputs": []
    },
    {
      "cell_type": "markdown",
      "source": [
        "##Write a Python program to extract single key-value pair of a dictionary in variables"
      ],
      "metadata": {
        "id": "-p5iz7ljaNWC"
      }
    },
    {
      "cell_type": "code",
      "source": [
        "dict = {\"name\": \"Ajay\", \"age\": 28, \"place\": \"Bombay\"}\n",
        "key, value = dict.popitem()\n",
        "\n",
        "print(\"Key:\", key)\n",
        "print(\"Value:\", value)"
      ],
      "metadata": {
        "id": "QdsRBuRmaOPN"
      },
      "execution_count": null,
      "outputs": []
    },
    {
      "cell_type": "markdown",
      "source": [
        "## Write a Python program to check if lowercase letters exist in a string."
      ],
      "metadata": {
        "id": "GgTqkcvVaO3q"
      }
    },
    {
      "cell_type": "code",
      "source": [
        "str_1 = \"Enter the Dragon\"\n",
        "print(\"does the Sting have lover case ? = \",str_1.islower())"
      ],
      "metadata": {
        "id": "nscQrnqwacjS",
        "colab": {
          "base_uri": "https://localhost:8080/"
        },
        "outputId": "a335297c-7a6e-4fac-843a-83cef2d25c97"
      },
      "execution_count": null,
      "outputs": [
        {
          "output_type": "stream",
          "name": "stdout",
          "text": [
            "does the Sting have lover case ? =  False\n"
          ]
        }
      ]
    },
    {
      "cell_type": "markdown",
      "source": [
        "##Write a Python program to check if multiple variables have the same value"
      ],
      "metadata": {
        "id": "Uw5AgCwDani0"
      }
    },
    {
      "cell_type": "code",
      "source": [
        "var1=\"Ajay\"\n",
        "var2=\"Ajay\"\n",
        "var3=\"Ajay\"\n",
        "if all(var == var1 for var in (var1,var2,var3)):\n",
        "   print(\"Sab ek hai.\")\n",
        "else:\n",
        "   print(\"Sab moh maya hai.\")  "
      ],
      "metadata": {
        "id": "aegavr68aosy",
        "colab": {
          "base_uri": "https://localhost:8080/"
        },
        "outputId": "a494a6f3-8182-4a62-c4eb-ab887098b694"
      },
      "execution_count": null,
      "outputs": [
        {
          "output_type": "stream",
          "name": "stdout",
          "text": [
            "Sab ek hai.\n"
          ]
        }
      ]
    },
    {
      "cell_type": "markdown",
      "source": [
        "##Write a Python program to filter the positive numbers from a list."
      ],
      "metadata": {
        "id": "A8C_0_yGbngd"
      }
    },
    {
      "cell_type": "code",
      "source": [
        "numbers = [28, -1, -18, 11, 15, -6]\n",
        "positive_numbers = [num for num in numbers if num > 0]\n",
        "print(\"Positive numbers:\", positive_numbers)"
      ],
      "metadata": {
        "id": "Nrg_gcBwboc_",
        "colab": {
          "base_uri": "https://localhost:8080/"
        },
        "outputId": "bbc473da-56ed-442e-d2e8-84362fb2871b"
      },
      "execution_count": null,
      "outputs": [
        {
          "output_type": "stream",
          "name": "stdout",
          "text": [
            "Positive numbers: [28, 11, 15]\n"
          ]
        }
      ]
    },
    {
      "cell_type": "markdown",
      "source": [
        "##Write a Python program to swap two variables."
      ],
      "metadata": {
        "id": "nnqOJ5fzb-y1"
      }
    },
    {
      "cell_type": "code",
      "source": [
        "v1=\"Ajay\"\n",
        "v2 = \"Martin\"\n",
        "var1,var2=var2,var1\n",
        "print(\"var1:\", var1)\n",
        "print(\"var2:\", var2)\n"
      ],
      "metadata": {
        "id": "jgrS4_ttb_qz",
        "colab": {
          "base_uri": "https://localhost:8080/"
        },
        "outputId": "c957a8fc-f9b7-4aa5-d37a-b874ae82418f"
      },
      "execution_count": null,
      "outputs": [
        {
          "output_type": "stream",
          "name": "stdout",
          "text": [
            "var1: Ajay\n",
            "var2: Ajay\n"
          ]
        }
      ]
    },
    {
      "cell_type": "markdown",
      "source": [
        "##Given variables x=30 and y=20, write a Python program to print t \"30+20=50\"."
      ],
      "metadata": {
        "id": "IW8sHa8PcF_4"
      }
    },
    {
      "cell_type": "code",
      "source": [
        "x=30\n",
        "y=20\n",
        "t=\"30+20=50\"\n",
        "print(t)"
      ],
      "metadata": {
        "id": "JTKVMXBRcKIT",
        "colab": {
          "base_uri": "https://localhost:8080/"
        },
        "outputId": "579d73ec-88ac-4f41-d6ac-f5585ea2c660"
      },
      "execution_count": null,
      "outputs": [
        {
          "output_type": "stream",
          "name": "stdout",
          "text": [
            "30+20=50\n"
          ]
        }
      ]
    },
    {
      "cell_type": "markdown",
      "source": [
        "##Write a Python program to calculate the sum over a list"
      ],
      "metadata": {
        "id": "xvVpPG89cpkM"
      }
    },
    {
      "cell_type": "code",
      "source": [
        "list = [1, 2, 3, 4, 5]\n",
        "print(sum(i for i in list))"
      ],
      "metadata": {
        "id": "o8yT2o6NcqXf",
        "colab": {
          "base_uri": "https://localhost:8080/"
        },
        "outputId": "dc1a8e3f-0ed7-495b-fe11-32e8343b7f2b"
      },
      "execution_count": null,
      "outputs": [
        {
          "output_type": "stream",
          "name": "stdout",
          "text": [
            "15\n"
          ]
        }
      ]
    },
    {
      "cell_type": "markdown",
      "source": [
        "##Write a Python program to sort three integers without using conditional statements and loops"
      ],
      "metadata": {
        "id": "hIXFXoc5dO_O"
      }
    },
    {
      "cell_type": "code",
      "source": [
        "def sort_numbers(a, b, c):\n",
        "    return sorted([a, b, c])\n",
        "\n",
        "print(sort_numbers(55,11,23))"
      ],
      "metadata": {
        "id": "IwyBJE9fdnPz",
        "colab": {
          "base_uri": "https://localhost:8080/"
        },
        "outputId": "f4b59d03-00f2-4b3b-b003-f619f42f810d"
      },
      "execution_count": null,
      "outputs": [
        {
          "output_type": "stream",
          "name": "stdout",
          "text": [
            "[11, 23, 55]\n"
          ]
        }
      ]
    },
    {
      "cell_type": "markdown",
      "source": [
        "##Write a Python program to get input as a string and convert it into Float or Integer"
      ],
      "metadata": {
        "id": "1w46ywATd2J6"
      }
    },
    {
      "cell_type": "code",
      "source": [
        "var1=str(input('Enter the value'))\n",
        "type(var1)\n",
        "var2=int(var1)\n",
        "type(var2)\n"
      ],
      "metadata": {
        "id": "cTPA4Yn-d-yd",
        "colab": {
          "base_uri": "https://localhost:8080/"
        },
        "outputId": "2b946fad-5bde-4f56-bc48-24ed336e5b42"
      },
      "execution_count": null,
      "outputs": [
        {
          "name": "stdout",
          "output_type": "stream",
          "text": [
            "Enter the value34\n"
          ]
        },
        {
          "output_type": "execute_result",
          "data": {
            "text/plain": [
              "int"
            ]
          },
          "metadata": {},
          "execution_count": 26
        }
      ]
    },
    {
      "cell_type": "markdown",
      "source": [
        "##Write a Python program to solve (x + y) * (x + y)\n",
        "##get x and y value from user"
      ],
      "metadata": {
        "id": "TkLn3ViyeCKc"
      }
    },
    {
      "cell_type": "code",
      "source": [
        "a=(int(input('enter value of x:')))\n",
        "b=(int(input('enter value of y:')))\n",
        "c=(x+y)*(x+y)\n",
        "print(c)"
      ],
      "metadata": {
        "id": "9UJUSdRlemj3",
        "colab": {
          "base_uri": "https://localhost:8080/"
        },
        "outputId": "e3200c4e-debc-41d0-c5e7-da65db778757"
      },
      "execution_count": null,
      "outputs": [
        {
          "output_type": "stream",
          "name": "stdout",
          "text": [
            "enter value of x:2\n",
            "enter value of y:3\n",
            "2500\n"
          ]
        }
      ]
    },
    {
      "cell_type": "markdown",
      "source": [
        "## Write a Python program to display your details like name, age, address in three different lines. "
      ],
      "metadata": {
        "id": "yHi53pT9etjU"
      }
    },
    {
      "cell_type": "code",
      "source": [
        "name = \"Ajay\"\n",
        "age = 27\n",
        "address = \"Bombay\"\n",
        "\n",
        "print(\"Name:\", name)\n",
        "print(\"Age:\", age)\n",
        "print(\"Address:\", address)"
      ],
      "metadata": {
        "id": "wVQFBlaSeuZ1",
        "colab": {
          "base_uri": "https://localhost:8080/"
        },
        "outputId": "ddcac4b5-6416-467c-9e63-f9749d058b95"
      },
      "execution_count": null,
      "outputs": [
        {
          "output_type": "stream",
          "name": "stdout",
          "text": [
            "Name: Ajay\n",
            "Age: 27\n",
            "Address: Bombay\n"
          ]
        }
      ]
    },
    {
      "cell_type": "markdown",
      "source": [
        "##Write a Python program that will return true if the two given integer values are equal or their sum or difference is 5"
      ],
      "metadata": {
        "id": "1-F-xoose4Lj"
      }
    },
    {
      "cell_type": "code",
      "source": [
        "def check_numbers(a, b):\n",
        "    if a == b or abs(a - b) == 5 or a + b == 5:\n",
        "        return True\n",
        "    else:\n",
        "        return False\n",
        "\n",
        "print(check_numbers(3, 4))   \n",
        "print(check_numbers(2, 3))  \n",
        "print(check_numbers(8, 1))  "
      ],
      "metadata": {
        "id": "97KKclaTe5a2",
        "colab": {
          "base_uri": "https://localhost:8080/"
        },
        "outputId": "6adda7f0-8c88-41c9-d0cc-7643b0f17e5a"
      },
      "execution_count": null,
      "outputs": [
        {
          "output_type": "stream",
          "name": "stdout",
          "text": [
            "False\n",
            "True\n",
            "False\n"
          ]
        }
      ]
    },
    {
      "cell_type": "markdown",
      "source": [
        "## Write a Python program to sum of two given integers. However, if the sum is between 15 to 20 it will return 20. "
      ],
      "metadata": {
        "id": "knkfoe5vfHcB"
      }
    },
    {
      "cell_type": "code",
      "source": [
        "def sum_with_condition(a, b):\n",
        "    return min(a+b,20)\n",
        "\n",
        "print(sum_with_condition(15, 10))  \n",
        "print(sum_with_condition(5, 6))"
      ],
      "metadata": {
        "id": "3c8dH2m6fIVE",
        "colab": {
          "base_uri": "https://localhost:8080/"
        },
        "outputId": "775d1299-5fb9-4292-ba26-4b6219eebfdc"
      },
      "execution_count": null,
      "outputs": [
        {
          "output_type": "stream",
          "name": "stdout",
          "text": [
            "20\n",
            "11\n"
          ]
        }
      ]
    },
    {
      "cell_type": "markdown",
      "source": [
        "##Write a Python program to get the least common multiple (LCM) of two positive integers"
      ],
      "metadata": {
        "id": "55dCmCZNfkDb"
      }
    },
    {
      "cell_type": "code",
      "source": [
        "import math\n",
        "\n",
        "def lcm(x, y):\n",
        "    return (x*y) / math.gcd(x, y)\n",
        "\n",
        "print(lcm(4, 6))  \n",
        "print(lcm(15, 25))  "
      ],
      "metadata": {
        "id": "G875O8D0flNI",
        "colab": {
          "base_uri": "https://localhost:8080/"
        },
        "outputId": "48d1fca1-db65-4525-d460-110b7b3c578b"
      },
      "execution_count": null,
      "outputs": [
        {
          "output_type": "stream",
          "name": "stdout",
          "text": [
            "12.0\n",
            "75.0\n"
          ]
        }
      ]
    },
    {
      "cell_type": "markdown",
      "source": [
        "##Write a Python program to print out a set containing all the colors from color_list_1 which are not present in color_list_2."
      ],
      "metadata": {
        "id": "C6clo94HgT0v"
      }
    },
    {
      "cell_type": "code",
      "source": [
        "color_list_1 = {'black', 'blue'}\n",
        "color_list_2 = {'orange','cyan','red'}\n",
        "result=color_list_1 - color_list_2\n",
        "print(result)"
      ],
      "metadata": {
        "id": "Jdcv9MrDgVLY",
        "colab": {
          "base_uri": "https://localhost:8080/"
        },
        "outputId": "42e7b315-5aac-4127-b7ca-1e23808c64f1"
      },
      "execution_count": null,
      "outputs": [
        {
          "output_type": "stream",
          "name": "stdout",
          "text": [
            "{'black', 'blue'}\n"
          ]
        }
      ]
    },
    {
      "cell_type": "markdown",
      "source": [
        "##Write a Python program to create an intersection of sets."
      ],
      "metadata": {
        "id": "DxLmAIL2g0oj"
      }
    },
    {
      "cell_type": "code",
      "source": [
        "set1={1,2,3,4,5}\n",
        "set2={5,6,7,8}\n",
        "intersection= set1&set2\n",
        "print(intersection)"
      ],
      "metadata": {
        "id": "WisDHfXqg1XM",
        "colab": {
          "base_uri": "https://localhost:8080/"
        },
        "outputId": "ca8d4eb1-21a1-4440-f245-5028bf3f0039"
      },
      "execution_count": null,
      "outputs": [
        {
          "output_type": "stream",
          "name": "stdout",
          "text": [
            "{5}\n"
          ]
        }
      ]
    },
    {
      "cell_type": "markdown",
      "source": [
        "##Write a Python program to issubset and issuperset"
      ],
      "metadata": {
        "id": "6lLCXrvOg7hA"
      }
    },
    {
      "cell_type": "code",
      "source": [
        "set1 = {1, 2, 3, 4, 5}\n",
        "set2 = {4, 5}\n",
        "set3 = {6, 7, 8}\n",
        "\n",
        "print(\"set2 is a subset of set1:\", set2.issubset(set1)) \n",
        "print(\"set3 is a subset of set1:\", set3.issubset(set1)) \n",
        "\n",
        "print(\"set1 is a superset of set2:\", set1.issuperset(set2)) \n",
        "print(\"set1 is a superset of set3:\", set1.issuperset(set3)) "
      ],
      "metadata": {
        "id": "RjA4d6v2g8Tz",
        "colab": {
          "base_uri": "https://localhost:8080/"
        },
        "outputId": "fe864f60-ebeb-4f98-dcbe-ac02af2d5670"
      },
      "execution_count": null,
      "outputs": [
        {
          "output_type": "stream",
          "name": "stdout",
          "text": [
            "set2 is a subset of set1: True\n",
            "set3 is a subset of set1: False\n",
            "set1 is a superset of set2: True\n",
            "set1 is a superset of set3: False\n"
          ]
        }
      ]
    },
    {
      "cell_type": "markdown",
      "source": [
        "## Write a Python program to reverse a tuple."
      ],
      "metadata": {
        "id": "hRO2zHU_hG_s"
      }
    },
    {
      "cell_type": "code",
      "source": [
        "eg_tuple = (1, 2, 3, 4, 5)\n",
        "\n",
        "reversed_tuple = eg_tuple[::-1]\n",
        "print(reversed_tuple) \n"
      ],
      "metadata": {
        "id": "TsoRnXOOhIVs",
        "colab": {
          "base_uri": "https://localhost:8080/"
        },
        "outputId": "b178786a-165c-4c5b-9fc8-a4c6cea8f05f"
      },
      "execution_count": null,
      "outputs": [
        {
          "output_type": "stream",
          "name": "stdout",
          "text": [
            "(5, 4, 3, 2, 1)\n"
          ]
        }
      ]
    },
    {
      "cell_type": "markdown",
      "source": [
        "## Write a Python program to convert a tuple t = ( (10,'ten'), (20, \"twenty\") ) into a dictionary."
      ],
      "metadata": {
        "id": "1Vse6RBBhRBQ"
      }
    },
    {
      "cell_type": "code",
      "source": [
        "t = ( (10,'ten'), (20, \"twenty\") )\n"
      ],
      "metadata": {
        "id": "N-wxiLJmhcMA",
        "colab": {
          "base_uri": "https://localhost:8080/",
          "height": 130
        },
        "outputId": "771bd299-1994-4c90-986a-fe56b658bf35"
      },
      "execution_count": null,
      "outputs": [
        {
          "output_type": "error",
          "ename": "SyntaxError",
          "evalue": "ignored",
          "traceback": [
            "\u001b[0;36m  File \u001b[0;32m\"<ipython-input-38-2ed459cc82cd>\"\u001b[0;36m, line \u001b[0;32m1\u001b[0m\n\u001b[0;31m    t = ( (10,'ten'), (20, \"twenty\") )\u001b[0m\n\u001b[0m                                    ^\u001b[0m\n\u001b[0;31mSyntaxError\u001b[0m\u001b[0;31m:\u001b[0m invalid character in identifier\n"
          ]
        }
      ]
    },
    {
      "cell_type": "markdown",
      "source": [
        "##Write a Python program to add 'ing' at the end of a given string (length should be at least 3). If the given string already ends with 'ing' then add 'ly' instead. If the string length of the given string is less than 3, leave it unchanged."
      ],
      "metadata": {
        "id": "cMF4qXLph5lZ"
      }
    },
    {
      "cell_type": "code",
      "source": [
        "def add_suffix(string):\n",
        "    if len(string) < 3:\n",
        "        return string\n",
        "    elif string.endswith('ing'):\n",
        "        return string + 'ly'\n",
        "    else:\n",
        "        return string + 'ing'\n",
        "\n",
        "print(add_suffix('amaz')) \n",
        "print(add_suffix('sing')) \n",
        "print(add_suffix('bor')) "
      ],
      "metadata": {
        "id": "BJf32C61h6h3",
        "colab": {
          "base_uri": "https://localhost:8080/"
        },
        "outputId": "c043af1b-133c-44aa-dc1a-b83b192a9dae"
      },
      "execution_count": null,
      "outputs": [
        {
          "output_type": "stream",
          "name": "stdout",
          "text": [
            "amazing\n",
            "singly\n",
            "boring\n"
          ]
        }
      ]
    },
    {
      "cell_type": "markdown",
      "source": [
        "##Write a Python code that takes a list of words and returns the length of the longest one."
      ],
      "metadata": {
        "id": "gRgB8uA3iDrP"
      }
    },
    {
      "cell_type": "code",
      "source": [
        "words=['ajay','aboli','sahil','anand']\n",
        "lword = max(len(word) for word in words)\n",
        "print(lword) "
      ],
      "metadata": {
        "id": "Vj3knBEaiElP",
        "colab": {
          "base_uri": "https://localhost:8080/"
        },
        "outputId": "e8d65f91-47fe-4c58-c85a-cdb7ccf44d8f"
      },
      "execution_count": null,
      "outputs": [
        {
          "output_type": "stream",
          "name": "stdout",
          "text": [
            "5\n"
          ]
        }
      ]
    },
    {
      "cell_type": "code",
      "source": [],
      "metadata": {
        "id": "VHD_Rb4hECW8"
      },
      "execution_count": null,
      "outputs": []
    },
    {
      "cell_type": "markdown",
      "source": [
        "#Day 5"
      ],
      "metadata": {
        "id": "VodpLBwfC0Jh"
      }
    },
    {
      "cell_type": "markdown",
      "source": [
        "## write a program to check whether a number entered by user is even or odd"
      ],
      "metadata": {
        "id": "PVFIF4ObDIkK"
      }
    },
    {
      "cell_type": "code",
      "source": [
        "a=int(input('Enter the number of your choice:'))\n",
        "if a % 2 == 0:\n",
        "  print('The number entered is even.')\n",
        "else:  \n",
        "  print('the number entered is odd.')"
      ],
      "metadata": {
        "id": "Nu6o770DDUHd",
        "colab": {
          "base_uri": "https://localhost:8080/"
        },
        "outputId": "45ce9a9d-8ba5-401e-ac45-72bd80f3cc2c"
      },
      "execution_count": 2,
      "outputs": [
        {
          "output_type": "stream",
          "name": "stdout",
          "text": [
            "Enter the number of your choice:8\n",
            "The number entered is even.\n"
          ]
        }
      ]
    },
    {
      "cell_type": "markdown",
      "source": [
        "## write a program to check whether a number entered by user is divisible by 7 or not"
      ],
      "metadata": {
        "id": "kmpphgLEDe12"
      }
    },
    {
      "cell_type": "code",
      "source": [
        "num=int(input('Enter the number:'))\n",
        "if num % 7 == 0:\n",
        "   print('the number is divisibe by 7.')\n",
        "else:\n",
        "   print('the number is not divisible by 7.')   "
      ],
      "metadata": {
        "id": "r_v38802DuE7",
        "colab": {
          "base_uri": "https://localhost:8080/"
        },
        "outputId": "c6f3ce29-a143-4594-b503-cbf2642a3ba8"
      },
      "execution_count": 3,
      "outputs": [
        {
          "output_type": "stream",
          "name": "stdout",
          "text": [
            "Enter the number:8\n",
            "the number is not divisible by 7.\n"
          ]
        }
      ]
    },
    {
      "cell_type": "markdown",
      "source": [
        "## write a program to display \"Hello\" if a number entered by user is a multiple of five, otherwise print \"Bye\"."
      ],
      "metadata": {
        "id": "_H43COjVD0PY"
      }
    },
    {
      "cell_type": "code",
      "source": [
        "a=int(input('Enter the number:'))\n",
        "if a % 5 == 0:\n",
        "  print('Hello')\n",
        "else:\n",
        "  print('Bye')"
      ],
      "metadata": {
        "id": "H0xuX6u_EH5x",
        "colab": {
          "base_uri": "https://localhost:8080/"
        },
        "outputId": "6e09669b-05d7-4ed0-840c-8d77193fb099"
      },
      "execution_count": 4,
      "outputs": [
        {
          "output_type": "stream",
          "name": "stdout",
          "text": [
            "Enter the number:8\n",
            "Bye\n"
          ]
        }
      ]
    },
    {
      "cell_type": "markdown",
      "source": [
        "## write a program to check whether a person is eligible for voting or not\n",
        "## (accept age from user)"
      ],
      "metadata": {
        "id": "TQ9R-qqNEKS6"
      }
    },
    {
      "cell_type": "code",
      "source": [
        "age=int(input('Enter your age:'))\n",
        "if age >= 18:\n",
        "  print('You are eligible for voting.')\n",
        "else:\n",
        "  print('You are not eligible for voting.')  "
      ],
      "metadata": {
        "id": "WXUNwBINEaqU",
        "colab": {
          "base_uri": "https://localhost:8080/"
        },
        "outputId": "f0feefe4-6a14-4153-ff5b-fb4937911ebf"
      },
      "execution_count": 5,
      "outputs": [
        {
          "output_type": "stream",
          "name": "stdout",
          "text": [
            "Enter your age:22\n",
            "You are eligible for voting.\n"
          ]
        }
      ]
    },
    {
      "cell_type": "markdown",
      "source": [
        "## write a program to check whether an years is leap year or not"
      ],
      "metadata": {
        "id": "eJnQvogiElaW"
      }
    },
    {
      "cell_type": "code",
      "source": [
        "year=int(input('Enter any year of your choice:'))\n",
        "if year % 4 == 0:\n",
        "  print('It is a leap year.')\n",
        "else:\n",
        "  print('It is not a leap year.')  "
      ],
      "metadata": {
        "id": "_ARzoL4zFHAY",
        "colab": {
          "base_uri": "https://localhost:8080/"
        },
        "outputId": "9d88131c-4a74-4540-a7e5-fd6365c00efc"
      },
      "execution_count": 6,
      "outputs": [
        {
          "output_type": "stream",
          "name": "stdout",
          "text": [
            "Enter any year of your choice:1998\n",
            "It is not a leap year.\n"
          ]
        }
      ]
    },
    {
      "cell_type": "markdown",
      "source": [
        "## write a program to accept a number from 1 to 7 and display the name of the day like 1 for Sunday, 2 for Monday and so on."
      ],
      "metadata": {
        "id": "QS2-udQMFH0g"
      }
    },
    {
      "cell_type": "code",
      "source": [
        "day=int(input('Enter any number from 1 to 7:'))\n",
        "days = [\"Sunday\", \"Monday\", \"Tuesday\", \"Wednesday\", \"Thursday\", \"Friday\", \"Saturday\"]\n",
        "if day >= 1 and day <= 7:\n",
        "    print(f\"{day} is {days[day-1]}\")\n",
        "else:\n",
        "    print(\"Invalid input. Please enter a number from 1 to 7.\")"
      ],
      "metadata": {
        "id": "-HbBhR90FnMN",
        "colab": {
          "base_uri": "https://localhost:8080/"
        },
        "outputId": "b50c28fd-776a-4f31-c305-c07fd05dccde"
      },
      "execution_count": 7,
      "outputs": [
        {
          "output_type": "stream",
          "name": "stdout",
          "text": [
            "Enter any number from 1 to 7:2\n",
            "2 is Monday\n"
          ]
        }
      ]
    },
    {
      "cell_type": "markdown",
      "source": [
        "## write the logical expression for the following:\n",
        "## A is grater than B and C is grater than D"
      ],
      "metadata": {
        "id": "a-sazODRFpxV"
      }
    },
    {
      "cell_type": "code",
      "source": [],
      "metadata": {
        "id": "vF_KpjM6GGmt"
      },
      "execution_count": null,
      "outputs": []
    },
    {
      "cell_type": "markdown",
      "source": [
        "## write a program to find the lowest number out of two numbers excepted from user"
      ],
      "metadata": {
        "id": "yIof0fhtGYSt"
      }
    },
    {
      "cell_type": "code",
      "source": [
        "a=int(input('Enter the fisrt number:'))\n",
        "b=int(input('Enter the second number'))\n",
        "lowest_number=min(a,b)\n",
        "print('The lowest number is:',lowest_number)"
      ],
      "metadata": {
        "id": "XY7U3z5eGh5E",
        "colab": {
          "base_uri": "https://localhost:8080/"
        },
        "outputId": "839df839-061b-45d1-c445-f01cc904332d"
      },
      "execution_count": 8,
      "outputs": [
        {
          "output_type": "stream",
          "name": "stdout",
          "text": [
            "Enter the fisrt number:2\n",
            "Enter the second number4\n",
            "The lowest number is: 2\n"
          ]
        }
      ]
    },
    {
      "cell_type": "markdown",
      "source": [
        "## write a program to find the largest number out of two numbers excepted from user"
      ],
      "metadata": {
        "id": "noVmi43gGj90"
      }
    },
    {
      "cell_type": "code",
      "source": [
        "a=int(input('Enter the first number:'))\n",
        "b=int(input('Enter the second number'))\n",
        "largest_number=max(a,b)\n",
        "print('The largest number is:',largest_number)"
      ],
      "metadata": {
        "id": "3YOXSVBeGm9F",
        "colab": {
          "base_uri": "https://localhost:8080/"
        },
        "outputId": "cdb687c8-e6bb-4298-e132-590874395ad5"
      },
      "execution_count": 9,
      "outputs": [
        {
          "output_type": "stream",
          "name": "stdout",
          "text": [
            "Enter the first number:2\n",
            "Enter the second number5\n",
            "The largest number is: 5\n"
          ]
        }
      ]
    },
    {
      "cell_type": "markdown",
      "source": [
        "## write a program to check whehter a number (accepted from user) is positive or negative"
      ],
      "metadata": {
        "id": "mOT4g_eXGnwa"
      }
    },
    {
      "cell_type": "code",
      "source": [
        "num=(int(input('enter the number:')))\n",
        "if num > 0:\n",
        "  print('the number entered is positive.')\n",
        "else:\n",
        "  print('the number entered is negative.')  \n"
      ],
      "metadata": {
        "id": "Y661CKDjG8U1",
        "colab": {
          "base_uri": "https://localhost:8080/"
        },
        "outputId": "c7038451-4ed5-4d0d-9bc8-b07339488ab5"
      },
      "execution_count": 10,
      "outputs": [
        {
          "output_type": "stream",
          "name": "stdout",
          "text": [
            "enter the number:-3\n",
            "the number entered is negative.\n"
          ]
        }
      ]
    },
    {
      "cell_type": "markdown",
      "source": [
        "## write program to check whether a number(accpeted from user) is divisible by 2 and 3 both"
      ],
      "metadata": {
        "id": "qhJMcBs0HMJh"
      }
    },
    {
      "cell_type": "code",
      "source": [
        "num=int(input('enter the number:'))\n",
        "if num % 2 and 3 == 0:\n",
        "  print('the number entered is divisble by 2 and 3.')\n",
        "else:\n",
        "  print('the number entered is not divisible by 2 and 3.')  \n"
      ],
      "metadata": {
        "id": "PyL-EPZLHbXM",
        "colab": {
          "base_uri": "https://localhost:8080/"
        },
        "outputId": "fe443751-c108-42e7-ac5f-f7df1f85cea1"
      },
      "execution_count": 11,
      "outputs": [
        {
          "output_type": "stream",
          "name": "stdout",
          "text": [
            "enter the number:6\n",
            "the number entered is not divisible by 2 and 3.\n"
          ]
        }
      ]
    },
    {
      "cell_type": "markdown",
      "source": [
        "## write a program to check whether a number is prime or not"
      ],
      "metadata": {
        "id": "vN6EOihHH18C"
      }
    },
    {
      "cell_type": "code",
      "source": [
        "num = int(input(\"Enter a number: \"))\n",
        "\n",
        "if num > 1:\n",
        "    for i in range(2, num):\n",
        "        if (num % i) == 0:\n",
        "            print(f\"{num} is not a prime number.\")\n",
        "            break\n",
        "    else:\n",
        "        print(f\"{num} is a prime number.\")\n",
        "else:\n",
        "    print(f\"{num} is not a prime number.\")"
      ],
      "metadata": {
        "id": "fSUkNVoQH6UU",
        "colab": {
          "base_uri": "https://localhost:8080/"
        },
        "outputId": "8439381b-a557-4304-b346-6f306f5d23e9"
      },
      "execution_count": 12,
      "outputs": [
        {
          "output_type": "stream",
          "name": "stdout",
          "text": [
            "Enter a number: 22\n",
            "22 is not a prime number.\n"
          ]
        }
      ]
    },
    {
      "cell_type": "markdown",
      "source": [
        "## write a program to check whether a number is vowel or not"
      ],
      "metadata": {
        "id": "Vg9qdvlxH-R5"
      }
    },
    {
      "cell_type": "code",
      "source": [
        "vowels=(input('enter any letter:'))\n",
        "if vowels in 'aeiou':\n",
        "   print('the letter is a vowel.')\n",
        "else:   \n",
        "   print('the letter is not a vowel.')\n",
        "   "
      ],
      "metadata": {
        "id": "k7sE1JP4ICUg",
        "colab": {
          "base_uri": "https://localhost:8080/"
        },
        "outputId": "45e3346c-e5c2-4fab-ee86-c34eb2b79281"
      },
      "execution_count": 13,
      "outputs": [
        {
          "output_type": "stream",
          "name": "stdout",
          "text": [
            "enter any letter:a\n",
            "the letter is a vowel.\n"
          ]
        }
      ]
    },
    {
      "cell_type": "markdown",
      "source": [
        "## Accept three side of a triangle and check whether it is an equilateral, isosceles or scalene triangle"
      ],
      "metadata": {
        "id": "mZfO91nOIMkw"
      }
    },
    {
      "cell_type": "code",
      "source": [
        "s1 = int(input(\"Enter the first side of the triangle: \"))\n",
        "s2 = int(input(\"Enter the second side of the triangle: \"))\n",
        "s3 = int(input(\"Enter the third side of the triangle: \"))\n",
        "\n",
        "if s1 == s2 and s2 == s3:\n",
        "    print(\"This is an equilateral triangle.\")\n",
        "elif s1 == s2 or s1 == s3 or s2 == s3:\n",
        "    print(\"This is an isosceles triangle.\")\n",
        "else:\n",
        "    print(\"This is a scalene triangle.\")"
      ],
      "metadata": {
        "id": "Jqa7rBFPIo6y",
        "colab": {
          "base_uri": "https://localhost:8080/"
        },
        "outputId": "ee9dda20-d652-4b10-e2d1-d0176583c57b"
      },
      "execution_count": 14,
      "outputs": [
        {
          "output_type": "stream",
          "name": "stdout",
          "text": [
            "Enter the first side of the triangle: 2\n",
            "Enter the second side of the triangle: 3\n",
            "Enter the third side of the triangle: 4\n",
            "This is a scalene triangle.\n"
          ]
        }
      ]
    },
    {
      "cell_type": "markdown",
      "source": [
        "## Accept three numbers from user and display the second largest number."
      ],
      "metadata": {
        "id": "dtBcWJSuI0My"
      }
    },
    {
      "cell_type": "code",
      "source": [
        "num1=int(input('Enter the first number:'))\n",
        "num2=int(input('Enter the second number:'))\n",
        "num3=int(input('Enter the third number:'))\n",
        "num=[num1,num2,num3]\n",
        "num.sort()\n",
        "print('the second largest number is:',num[1])"
      ],
      "metadata": {
        "id": "6gztdePzI8bE",
        "colab": {
          "base_uri": "https://localhost:8080/"
        },
        "outputId": "6fcc0261-a4ba-427f-ebdd-f8fa90466e3a"
      },
      "execution_count": 15,
      "outputs": [
        {
          "output_type": "stream",
          "name": "stdout",
          "text": [
            "Enter the first number:1\n",
            "Enter the second number:2\n",
            "Enter the third number:3\n",
            "the second largest number is: 2\n"
          ]
        }
      ]
    },
    {
      "cell_type": "markdown",
      "source": [
        "## Accpet the kilometers covered and calculate the bill according to the following criteria:\n",
        "## First 10 km      Rs 11/km\n",
        "## Next 90 km       Rs 10/km\n",
        "## After that       Rs 9/km"
      ],
      "metadata": {
        "id": "IVlOhdj1JUxF"
      }
    },
    {
      "cell_type": "code",
      "source": [
        "kms = float(input(\"Enter the kilometers covered: \"))\n",
        "\n",
        "if kms <= 10:\n",
        "    bill = kms * 11\n",
        "elif kms <= 100:\n",
        "    bill = 10 * 11 + (kms - 10) * 10\n",
        "else:\n",
        "    bill = 10 * 11 + 90 * 10 + (kms - 100) * 9\n",
        "\n",
        "print(\"The bill is: Rs\", bill)"
      ],
      "metadata": {
        "id": "12GzxQHKJwaE",
        "colab": {
          "base_uri": "https://localhost:8080/"
        },
        "outputId": "28d9e145-69ec-4b82-e4e5-af04ae9689df"
      },
      "execution_count": 16,
      "outputs": [
        {
          "output_type": "stream",
          "name": "stdout",
          "text": [
            "Enter the kilometers covered: 1111\n",
            "The bill is: Rs 10109.0\n"
          ]
        }
      ]
    },
    {
      "cell_type": "markdown",
      "source": [
        "## Take values of length and breadth of a rectangle from user and check if it is square or not."
      ],
      "metadata": {
        "id": "5AgM9yJvKXFv"
      }
    },
    {
      "cell_type": "code",
      "source": [
        "length=int(input('enter the length:'))\n",
        "breadth=int(input('enter the breadth:'))\n",
        "if length == breadth:\n",
        "    print(\"The rectangle is a square.\")\n",
        "else:\n",
        "    print(\"The rectangle is not a square.\")\n",
        "    "
      ],
      "metadata": {
        "id": "PekQ7bSZKZOx",
        "colab": {
          "base_uri": "https://localhost:8080/"
        },
        "outputId": "f1e0022c-0d84-4427-c230-105b6150076d"
      },
      "execution_count": 17,
      "outputs": [
        {
          "output_type": "stream",
          "name": "stdout",
          "text": [
            "enter the length:12\n",
            "enter the breadth:21\n",
            "The rectangle is not a square.\n"
          ]
        }
      ]
    },
    {
      "cell_type": "markdown",
      "source": [
        "## The given number is of one digited or two digited or three digited or more than three digited.\n",
        "## (accpet from user)"
      ],
      "metadata": {
        "id": "cn-6nO8YMAqC"
      }
    },
    {
      "cell_type": "code",
      "source": [
        "num = int(input(\"Enter a number: \"))\n",
        "\n",
        "if num >= 0 and num < 10:\n",
        "    print(\"The number is a one-digit number.\")\n",
        "elif num >= 10 and num < 100:\n",
        "    print(\"The number is a two-digit number.\")\n",
        "elif num >= 100 and num < 1000:\n",
        "    print(\"The number is a three-digit number.\")\n",
        "else:\n",
        "    print(\"The number is a more than three-digit number.\")"
      ],
      "metadata": {
        "id": "CBvRAlQPMHmn",
        "colab": {
          "base_uri": "https://localhost:8080/"
        },
        "outputId": "71c2bd06-5e98-4f82-b03a-a57db5b3c3c2"
      },
      "execution_count": 18,
      "outputs": [
        {
          "output_type": "stream",
          "name": "stdout",
          "text": [
            "Enter a number: 12\n",
            "The number is a two-digit number.\n"
          ]
        }
      ]
    },
    {
      "cell_type": "markdown",
      "source": [
        "## write a program to check whether a number entered by user is divisible by 7 or not. if it is not divisible by 7 then print how much number is needed to add to get it divisible by 7"
      ],
      "metadata": {
        "id": "bNfGbtPDPByZ"
      }
    },
    {
      "cell_type": "code",
      "source": [
        "import math\n",
        "a = int(input(\"Enter a number: \"))\n",
        "\n",
        "if a % 7 == 0:\n",
        "    print(\"a is divisible by 7.\")\n",
        "else:\n",
        "    print(\"a is not divisible by 7 :, (add {7 - (a % 7)} to get the nearest number divisible by 7\")"
      ],
      "metadata": {
        "id": "bKM6RUNfQLlo",
        "colab": {
          "base_uri": "https://localhost:8080/"
        },
        "outputId": "4546176d-cc81-4929-ccc9-0c41bb557277"
      },
      "execution_count": 19,
      "outputs": [
        {
          "output_type": "stream",
          "name": "stdout",
          "text": [
            "Enter a number: 49\n",
            "a is divisible by 7.\n"
          ]
        }
      ]
    }
  ]
}