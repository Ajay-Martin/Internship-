{
  "nbformat": 4,
  "nbformat_minor": 0,
  "metadata": {
    "colab": {
      "provenance": [],
      "authorship_tag": "ABX9TyOyyV9O/EpEO1z2aQ5xwOf4",
      "include_colab_link": true
    },
    "kernelspec": {
      "name": "python3",
      "display_name": "Python 3"
    },
    "language_info": {
      "name": "python"
    }
  },
  "cells": [
    {
      "cell_type": "markdown",
      "metadata": {
        "id": "view-in-github",
        "colab_type": "text"
      },
      "source": [
        "<a href=\"https://colab.research.google.com/github/Ajay-Martin/Internship-/blob/main/Day_4.ipynb\" target=\"_parent\"><img src=\"https://colab.research.google.com/assets/colab-badge.svg\" alt=\"Open In Colab\"/></a>"
      ]
    },
    {
      "cell_type": "code",
      "execution_count": 64,
      "metadata": {
        "colab": {
          "base_uri": "https://localhost:8080/"
        },
        "id": "G_0coMLYRVM4",
        "outputId": "9aba4280-ccfb-4635-9d4f-a0ee7bb7204c"
      },
      "outputs": [
        {
          "output_type": "stream",
          "name": "stdout",
          "text": [
            "concatenation -  Thirty days of python\n"
          ]
        }
      ],
      "source": [
        "#1\n",
        "s1= 'Thirty'\n",
        "s2 = 'days'\n",
        "s3 = 'of'\n",
        "s4 = 'python'\n",
        "space = ' '\n",
        "concon = s1 + space + s2 + space + s3 + space + s4\n",
        "print('concatenation - ',concon)"
      ]
    },
    {
      "cell_type": "code",
      "source": [
        "#2\n",
        "st1 = \"Coding\"\n",
        "st2 = \"for\"\n",
        "st3 = \"All\"\n",
        "concon2 = st1 + space + st2 +space + st3\n",
        "print(concon2)"
      ],
      "metadata": {
        "colab": {
          "base_uri": "https://localhost:8080/"
        },
        "id": "DDD5raIDTCHo",
        "outputId": "3c6e49e9-7c7b-4b5e-ef72-156f1a9f161d"
      },
      "execution_count": 65,
      "outputs": [
        {
          "output_type": "stream",
          "name": "stdout",
          "text": [
            "Coding for All\n"
          ]
        }
      ]
    },
    {
      "cell_type": "code",
      "source": [
        "St = [\"coding\", \"for\", \"all\"]\n",
        "show = \" \".join(St)\n",
        "print(show)"
      ],
      "metadata": {
        "colab": {
          "base_uri": "https://localhost:8080/"
        },
        "id": "7I8aMFNYUHnc",
        "outputId": "8fc3f5f1-2aa5-4711-a990-87b033f44b08"
      },
      "execution_count": 66,
      "outputs": [
        {
          "output_type": "stream",
          "name": "stdout",
          "text": [
            "coding for all\n"
          ]
        }
      ]
    },
    {
      "cell_type": "code",
      "source": [
        "#3 , 4 & 5\n",
        "company = \"Coding for All\"\n",
        "print(company)\n",
        "print(len(company))"
      ],
      "metadata": {
        "colab": {
          "base_uri": "https://localhost:8080/"
        },
        "id": "wtOZf_ZjU97W",
        "outputId": "99043278-8627-4495-9d38-bc8dc234f89e"
      },
      "execution_count": 67,
      "outputs": [
        {
          "output_type": "stream",
          "name": "stdout",
          "text": [
            "Coding for All\n",
            "14\n"
          ]
        }
      ]
    },
    {
      "cell_type": "code",
      "source": [
        "#6 & 7\n",
        "print(company.upper())\n",
        "print(company.lower())"
      ],
      "metadata": {
        "colab": {
          "base_uri": "https://localhost:8080/"
        },
        "id": "wrasNJMrVT5Z",
        "outputId": "e3ed11cc-1baa-49c1-e50d-22d6fef12d45"
      },
      "execution_count": 68,
      "outputs": [
        {
          "output_type": "stream",
          "name": "stdout",
          "text": [
            "CODING FOR ALL\n",
            "coding for all\n"
          ]
        }
      ]
    },
    {
      "cell_type": "code",
      "source": [
        "#8\n",
        "print(company.capitalize())\n",
        "print(company.title())\n",
        "print(company.swapcase())"
      ],
      "metadata": {
        "colab": {
          "base_uri": "https://localhost:8080/"
        },
        "id": "lq94E26eVvVs",
        "outputId": "816e4211-77ca-4efb-88ad-223bb97c11bd"
      },
      "execution_count": 69,
      "outputs": [
        {
          "output_type": "stream",
          "name": "stdout",
          "text": [
            "Coding for all\n",
            "Coding For All\n",
            "cODING FOR aLL\n"
          ]
        }
      ]
    },
    {
      "cell_type": "code",
      "source": [
        "#9\n",
        "first_wrd = company[ 1: ]\n",
        "print(first_wrd)"
      ],
      "metadata": {
        "colab": {
          "base_uri": "https://localhost:8080/"
        },
        "id": "NxekxT5OWUcx",
        "outputId": "bdd33258-4dcb-4eed-fb36-dfdbd4cb8278"
      },
      "execution_count": 70,
      "outputs": [
        {
          "output_type": "stream",
          "name": "stdout",
          "text": [
            "oding for All\n"
          ]
        }
      ]
    },
    {
      "cell_type": "code",
      "source": [
        "#10\n",
        "print(company.find('Coding'))\n",
        "print(first_wrd.find('Coding'))"
      ],
      "metadata": {
        "colab": {
          "base_uri": "https://localhost:8080/"
        },
        "id": "e2Nm1LgGXS49",
        "outputId": "a7da4a2b-8a14-4b6b-c542-2286085723e5"
      },
      "execution_count": 71,
      "outputs": [
        {
          "output_type": "stream",
          "name": "stdout",
          "text": [
            "0\n",
            "-1\n"
          ]
        }
      ]
    },
    {
      "cell_type": "code",
      "source": [
        "sub = \"Coding\"\n",
        "print(company.index(sub))"
      ],
      "metadata": {
        "colab": {
          "base_uri": "https://localhost:8080/"
        },
        "id": "e6Nd3xeeYUlB",
        "outputId": "30e26079-99e4-4c2f-97f3-55bc5d1e8fd4"
      },
      "execution_count": 72,
      "outputs": [
        {
          "output_type": "stream",
          "name": "stdout",
          "text": [
            "0\n"
          ]
        }
      ]
    },
    {
      "cell_type": "code",
      "source": [
        "#11\n",
        "print(company.replace('Coding','Python' ))"
      ],
      "metadata": {
        "colab": {
          "base_uri": "https://localhost:8080/"
        },
        "id": "PAGGV2teYifr",
        "outputId": "bb996ac6-d3a9-42e7-f1ff-3b8bd4e376b7"
      },
      "execution_count": 74,
      "outputs": [
        {
          "output_type": "stream",
          "name": "stdout",
          "text": [
            "Python for All\n"
          ]
        }
      ]
    },
    {
      "cell_type": "code",
      "source": [
        "#12\n",
        "company.replace('All','Everyone')"
      ],
      "metadata": {
        "colab": {
          "base_uri": "https://localhost:8080/",
          "height": 36
        },
        "id": "jSH2aD2dY_W3",
        "outputId": "5091d252-64c4-4dc1-964d-b1f70d72f1ae"
      },
      "execution_count": 75,
      "outputs": [
        {
          "output_type": "execute_result",
          "data": {
            "text/plain": [
              "'Coding for Everyone'"
            ],
            "application/vnd.google.colaboratory.intrinsic+json": {
              "type": "string"
            }
          },
          "metadata": {},
          "execution_count": 75
        }
      ]
    },
    {
      "cell_type": "code",
      "source": [
        "#13\n",
        "company.split()\n",
        "print(company)\n",
        "company.split(', ')\n"
      ],
      "metadata": {
        "colab": {
          "base_uri": "https://localhost:8080/"
        },
        "id": "b6pkTw5KZh1K",
        "outputId": "55ce9754-687a-42a4-a760-2154ccbec484"
      },
      "execution_count": 76,
      "outputs": [
        {
          "output_type": "stream",
          "name": "stdout",
          "text": [
            "Coding for All\n"
          ]
        },
        {
          "output_type": "execute_result",
          "data": {
            "text/plain": [
              "['Coding for All']"
            ]
          },
          "metadata": {},
          "execution_count": 76
        }
      ]
    },
    {
      "cell_type": "code",
      "source": [
        "#14\n",
        "stg = 'Facebook , Google , Microsoft , Apple , Oracle , IBM , Amazon'\n",
        "print(stg)\n",
        "stg.split(' , ')"
      ],
      "metadata": {
        "colab": {
          "base_uri": "https://localhost:8080/"
        },
        "id": "Ki5O8vr0Z_sW",
        "outputId": "68c9a1b0-5d69-4358-bceb-a20422ba0e36"
      },
      "execution_count": 77,
      "outputs": [
        {
          "output_type": "stream",
          "name": "stdout",
          "text": [
            "Facebook , Google , Microsoft , Apple , Oracle , IBM , Amazon\n"
          ]
        },
        {
          "output_type": "execute_result",
          "data": {
            "text/plain": [
              "['Facebook', 'Google', 'Microsoft', 'Apple', 'Oracle', 'IBM', 'Amazon']"
            ]
          },
          "metadata": {},
          "execution_count": 77
        }
      ]
    },
    {
      "cell_type": "code",
      "source": [
        "#15 , 16 & 17\n",
        "print(company[0])\n",
        "print(company[-1])\n",
        "print(company[10])"
      ],
      "metadata": {
        "colab": {
          "base_uri": "https://localhost:8080/"
        },
        "id": "dD4akz2JbQg9",
        "outputId": "ad45b658-76ea-42a9-9528-68a9dc67c987"
      },
      "execution_count": 84,
      "outputs": [
        {
          "output_type": "stream",
          "name": "stdout",
          "text": [
            "C\n",
            "l\n",
            " \n"
          ]
        }
      ]
    },
    {
      "cell_type": "code",
      "source": [
        "#18 & 19\n",
        "pfe = 'Python For Everyone'\n",
        "cfa = 'Coding For All'"
      ],
      "metadata": {
        "id": "BGamSrjbdPAj"
      },
      "execution_count": 87,
      "outputs": []
    },
    {
      "cell_type": "code",
      "source": [
        "#20 , 21 & 22 \n",
        "print(cfa.index('C'))\n",
        "print(cfa.index('F'))\n",
        "cfa.rfind('l')"
      ],
      "metadata": {
        "colab": {
          "base_uri": "https://localhost:8080/"
        },
        "id": "NLyKZxcGddE2",
        "outputId": "c9657b75-c557-45a3-97c6-1caf1738cde2"
      },
      "execution_count": 92,
      "outputs": [
        {
          "output_type": "stream",
          "name": "stdout",
          "text": [
            "0\n",
            "7\n"
          ]
        },
        {
          "output_type": "execute_result",
          "data": {
            "text/plain": [
              "13"
            ]
          },
          "metadata": {},
          "execution_count": 92
        }
      ]
    },
    {
      "cell_type": "code",
      "source": [
        "#23 , 24, 25, 26 & 27\n",
        "wrd = 'You cannot end a sentence with because because because is a conjunction'\n",
        "print(wrd.index('because'))\n",
        "print(wrd.rfind('because',))\n",
        "print(wrd.rindex('because'))\n",
        "print(wrd[31:-17])"
      ],
      "metadata": {
        "colab": {
          "base_uri": "https://localhost:8080/"
        },
        "id": "_bdkDwignxQU",
        "outputId": "fa9d8580-4f84-42db-9d07-855ce0f1b48f"
      },
      "execution_count": 104,
      "outputs": [
        {
          "output_type": "stream",
          "name": "stdout",
          "text": [
            "31\n",
            "47\n",
            "47\n",
            "because because because\n"
          ]
        }
      ]
    },
    {
      "cell_type": "code",
      "source": [
        "#28 & 29\n",
        "cd= 'Coding For All'\n",
        "print(cd.startswith('Coding'))\n",
        "print(cd.endswith('coding'))"
      ],
      "metadata": {
        "colab": {
          "base_uri": "https://localhost:8080/"
        },
        "id": "YCRMXbdRsRUq",
        "outputId": "d4a7f46a-0cda-4f27-d3b2-53d42cb4d204"
      },
      "execution_count": 111,
      "outputs": [
        {
          "output_type": "stream",
          "name": "stdout",
          "text": [
            "True\n",
            "False\n"
          ]
        }
      ]
    },
    {
      "cell_type": "code",
      "source": [
        "#30\n",
        "s=\"    Coding for all     \"\n",
        "print(s)\n",
        "s.strip()  "
      ],
      "metadata": {
        "colab": {
          "base_uri": "https://localhost:8080/",
          "height": 53
        },
        "id": "xbqsUIM8tf1q",
        "outputId": "bfbdc917-6332-42a1-9d0d-70370d3d88d7"
      },
      "execution_count": 119,
      "outputs": [
        {
          "output_type": "stream",
          "name": "stdout",
          "text": [
            "    Coding for all     \n"
          ]
        },
        {
          "output_type": "execute_result",
          "data": {
            "text/plain": [
              "'Coding for all'"
            ],
            "application/vnd.google.colaboratory.intrinsic+json": {
              "type": "string"
            }
          },
          "metadata": {},
          "execution_count": 119
        }
      ]
    },
    {
      "cell_type": "code",
      "source": [
        "#31\n",
        "Chal =\"30DaysofPython\"\n",
        "Chal.isidentifier()"
      ],
      "metadata": {
        "colab": {
          "base_uri": "https://localhost:8080/"
        },
        "id": "qDwFiJSztgLV",
        "outputId": "4d9fd39c-6d72-44df-bf76-c9e6febe7b34"
      },
      "execution_count": 114,
      "outputs": [
        {
          "output_type": "execute_result",
          "data": {
            "text/plain": [
              "False"
            ]
          },
          "metadata": {},
          "execution_count": 114
        }
      ]
    },
    {
      "cell_type": "code",
      "source": [
        "chal ='thirty_days_of_python'\n",
        "chal.isidentifier()"
      ],
      "metadata": {
        "colab": {
          "base_uri": "https://localhost:8080/"
        },
        "id": "Imb_Lm1vt93T",
        "outputId": "c89c10ec-8fa4-48e0-c0f2-c4a03b8a75c9"
      },
      "execution_count": 116,
      "outputs": [
        {
          "output_type": "execute_result",
          "data": {
            "text/plain": [
              "True"
            ]
          },
          "metadata": {},
          "execution_count": 116
        }
      ]
    },
    {
      "cell_type": "code",
      "source": [
        "#32\n",
        "lib = ['Django', 'Flask', 'Bottle', 'Pyramid', 'Falcon']\n",
        "libraries = ' #'.join(lib)\n",
        "print(libraries)\n",
        "libraries1 = ' #',space.join(lib)\n",
        "print(libraries1)"
      ],
      "metadata": {
        "colab": {
          "base_uri": "https://localhost:8080/"
        },
        "id": "mSjYtfCkuxb2",
        "outputId": "f88bd411-f525-457d-91f2-48c56e840fd5"
      },
      "execution_count": 135,
      "outputs": [
        {
          "output_type": "stream",
          "name": "stdout",
          "text": [
            "Django #Flask #Bottle #Pyramid #Falcon\n",
            "(' #', 'Django Flask Bottle Pyramid Falcon')\n"
          ]
        }
      ]
    },
    {
      "cell_type": "code",
      "source": [
        "print('I am enjoying this challenge. \\nI just wonder what is next.')"
      ],
      "metadata": {
        "colab": {
          "base_uri": "https://localhost:8080/"
        },
        "id": "D7rHq6ZOvmWM",
        "outputId": "97f413c7-78f1-4569-8f49-b968ea7bacc6"
      },
      "execution_count": 137,
      "outputs": [
        {
          "output_type": "stream",
          "name": "stdout",
          "text": [
            "I am enjoying this challenge. \n",
            "I just wonder what is next.\n"
          ]
        }
      ]
    },
    {
      "cell_type": "code",
      "source": [
        "#34\n",
        "print(\"Name\\tAge\\tCountry\\tCity\\nAjay\\t18\\tIndia\\tNairobi\")"
      ],
      "metadata": {
        "colab": {
          "base_uri": "https://localhost:8080/"
        },
        "id": "51KoNrikwkWU",
        "outputId": "f7b7c568-feda-46b4-c0fe-90d8e6b00aba"
      },
      "execution_count": 138,
      "outputs": [
        {
          "output_type": "stream",
          "name": "stdout",
          "text": [
            "Name\tAge\tCountry\tCity\n",
            "Ajay\t18\tIndia\tNairobi\n"
          ]
        }
      ]
    },
    {
      "cell_type": "code",
      "source": [
        "#35\n",
        "radius = 10\n",
        "pi = 3.14\n",
        "pow =2\n",
        "area = pi* radius **2\n",
        "print('Radius =',radius) \n",
        "print('area = {} *{} ** {}'.format(pi,radius,pow,3.14*radius**2))\n",
        "areastr='The area of a circle with radius {} is {:.2F}.'.format(radius,area)\n",
        "print(areastr)"
      ],
      "metadata": {
        "colab": {
          "base_uri": "https://localhost:8080/"
        },
        "id": "z_SaIwgfxEot",
        "outputId": "e541dc75-1725-4040-d983-0a427e832bf1"
      },
      "execution_count": 156,
      "outputs": [
        {
          "output_type": "stream",
          "name": "stdout",
          "text": [
            "Radius = 10\n",
            "area = 3.14 *10 ** 2\n",
            "The area of a circle with radius 10 is 314.00.\n"
          ]
        }
      ]
    },
    {
      "cell_type": "code",
      "source": [
        "#36\n",
        "a = 8\n",
        "b = 6\n",
        "print('{} + {} = {}'.format(a , b , a + b))\n",
        "print('{} - {} = {}'.format(a , b , a - b))\n",
        "print('{} * {} = {}'.format(a , b , a * b))\n",
        "print('{} / {} = {}'.format(a , b , a / b))\n",
        "print('{} % {} = {}'.format(a , b , a % b))\n",
        "print('{} // {} = {}'.format(a , b , a // b))\n",
        "print('{} ** {} = {}'.format(a , b , a ** b))"
      ],
      "metadata": {
        "colab": {
          "base_uri": "https://localhost:8080/"
        },
        "id": "Rmr_jytpyF3N",
        "outputId": "778b915b-4409-4c10-b186-5057e570e0f7"
      },
      "execution_count": 159,
      "outputs": [
        {
          "output_type": "stream",
          "name": "stdout",
          "text": [
            "8 + 6 = 14\n",
            "8 - 6 = 2\n",
            "8 * 6 = 48\n",
            "8 / 6 = 1.3333333333333333\n",
            "8 % 6 = 2\n",
            "8 // 6 = 1\n",
            "8 ** 6 = 262144\n"
          ]
        }
      ]
    }
  ]
}