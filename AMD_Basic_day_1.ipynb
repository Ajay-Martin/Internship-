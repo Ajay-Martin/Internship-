{
  "nbformat": 4,
  "nbformat_minor": 0,
  "metadata": {
    "colab": {
      "provenance": [],
      "include_colab_link": true
    },
    "kernelspec": {
      "name": "python3",
      "display_name": "Python 3"
    },
    "language_info": {
      "name": "python"
    }
  },
  "cells": [
    {
      "cell_type": "markdown",
      "metadata": {
        "id": "view-in-github",
        "colab_type": "text"
      },
      "source": [
        "<a href=\"https://colab.research.google.com/github/Ajay-Martin/Internship-/blob/main/AMD_Basic_day_1.ipynb\" target=\"_parent\"><img src=\"https://colab.research.google.com/assets/colab-badge.svg\" alt=\"Open In Colab\"/></a>"
      ]
    },
    {
      "cell_type": "markdown",
      "source": [
        "#1.Write a Python program to print the following string in a specific format\n",
        "\n",
        "\n",
        "\n"
      ],
      "metadata": {
        "id": "dlRQQuwX3K2T"
      }
    },
    {
      "cell_type": "code",
      "execution_count": null,
      "metadata": {
        "id": "SOa4WGmn3DKB"
      },
      "outputs": [],
      "source": [
        "#Twinkle ,twinkle, little star,\n",
        "#\t How I wonder what you are !\n",
        "#\t\tUp above the world so high, \n",
        "#\t\t Like a dimond in the sky.\n",
        "#Twinkle ,twinkle, little star,\n",
        "#\t How I wonder what you are "
      ]
    },
    {
      "cell_type": "code",
      "source": [
        "print(\"Twinkle, twinkle, little star, \\n\\t How I wonder what you are! \\n\\t\\t Up above the world so high, \\n\\t\\t Like a diamond in the sky. \\n Twinkle, twinkle, little star, \\n\\t How I wonder what you are!\")\n"
      ],
      "metadata": {
        "colab": {
          "base_uri": "https://localhost:8080/"
        },
        "id": "CIAFImiq9nHm",
        "outputId": "b8cc5a82-f939-4274-fecf-7106f0725a19"
      },
      "execution_count": null,
      "outputs": [
        {
          "output_type": "stream",
          "name": "stdout",
          "text": [
            "Twinkle, twinkle, little star, \n",
            "\t How I wonder what you are! \n",
            "\t\t Up above the world so high, \n",
            "\t\t Like a diamond in the sky. \n",
            " Twinkle, twinkle, little star, \n",
            "\t How I wonder what you are!\n"
          ]
        }
      ]
    },
    {
      "cell_type": "markdown",
      "source": [
        "#2.Add Comments"
      ],
      "metadata": {
        "id": "YqGe9koK4SBW"
      }
    },
    {
      "cell_type": "code",
      "source": [
        "#This ia a Comment\n",
        "#Ye bhi Comment hai"
      ],
      "metadata": {
        "id": "ergP5bzE4UNs"
      },
      "execution_count": null,
      "outputs": []
    },
    {
      "cell_type": "markdown",
      "source": [
        "#3.Create Different List Of Variables"
      ],
      "metadata": {
        "id": "8cnxZwr84aLd"
      }
    },
    {
      "cell_type": "code",
      "source": [
        "#Using Append\n",
        "from typing import List"
      ],
      "metadata": {
        "id": "Bm-rT-ku4iDc"
      },
      "execution_count": 15,
      "outputs": []
    },
    {
      "cell_type": "code",
      "source": [
        "a = b = c = 300,\n",
        "x=[a,b,c]\n",
        "d = e = f =700\n",
        "y=[d,e,f]\n",
        "\n",
        "list = []\n",
        "\n",
        "list.append(x)\n",
        "list.append(y)\n",
        "print(list)"
      ],
      "metadata": {
        "colab": {
          "base_uri": "https://localhost:8080/"
        },
        "id": "yAt8ieoMCam1",
        "outputId": "6b31fdc1-5aaf-404c-df5e-944b349bd2f3"
      },
      "execution_count": 24,
      "outputs": [
        {
          "output_type": "stream",
          "name": "stdout",
          "text": [
            "[[(300,), (300,), (300,)], [700, 700, 700]]\n"
          ]
        }
      ]
    },
    {
      "cell_type": "code",
      "source": [
        "#Basic list \n",
        "[[a,d],[b,e],[c,f]]"
      ],
      "metadata": {
        "colab": {
          "base_uri": "https://localhost:8080/"
        },
        "id": "a6TAPSXoDz98",
        "outputId": "a48622c4-6b7d-4e1c-ee8d-64732674da11"
      },
      "execution_count": 25,
      "outputs": [
        {
          "output_type": "execute_result",
          "data": {
            "text/plain": [
              "[[(300,), 700], [(300,), 700], [(300,), 700]]"
            ]
          },
          "metadata": {},
          "execution_count": 25
        }
      ]
    },
    {
      "cell_type": "markdown",
      "source": [
        "#4.Take first name and last name as two seperate variables and then join two variables"
      ],
      "metadata": {
        "id": "DoHCESSP4pm9"
      }
    },
    {
      "cell_type": "code",
      "source": [
        "a = input(\"Enter your First Name =  \")\n",
        "b = input(\"Enter your last Name = \")\n",
        "print(a +\" \"+ b)"
      ],
      "metadata": {
        "id": "K0jOJj525Au3",
        "colab": {
          "base_uri": "https://localhost:8080/"
        },
        "outputId": "d4610ce2-6bca-4385-c54c-18ba8a1f5b81"
      },
      "execution_count": null,
      "outputs": [
        {
          "output_type": "stream",
          "name": "stdout",
          "text": [
            "Enter your First Name =  ajay\n",
            "Enter your last Name = daniel\n",
            "ajay daniel\n"
          ]
        }
      ]
    }
  ]
}