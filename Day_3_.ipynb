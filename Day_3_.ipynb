{
  "nbformat": 4,
  "nbformat_minor": 0,
  "metadata": {
    "colab": {
      "provenance": [],
      "authorship_tag": "ABX9TyNY0wUukCBejj59YWsH+lPq",
      "include_colab_link": true
    },
    "kernelspec": {
      "name": "python3",
      "display_name": "Python 3"
    },
    "language_info": {
      "name": "python"
    }
  },
  "cells": [
    {
      "cell_type": "markdown",
      "metadata": {
        "id": "view-in-github",
        "colab_type": "text"
      },
      "source": [
        "<a href=\"https://colab.research.google.com/github/Ajay-Martin/Internship-/blob/main/Day_3_.ipynb\" target=\"_parent\"><img src=\"https://colab.research.google.com/assets/colab-badge.svg\" alt=\"Open In Colab\"/></a>"
      ]
    },
    {
      "cell_type": "code",
      "execution_count": 22,
      "metadata": {
        "id": "HUMMSyiHLga0"
      },
      "outputs": [],
      "source": [
        "age = 20"
      ]
    },
    {
      "cell_type": "code",
      "source": [
        "height = 175.5"
      ],
      "metadata": {
        "id": "g05OC0jZMGaR"
      },
      "execution_count": 23,
      "outputs": []
    },
    {
      "cell_type": "code",
      "source": [
        "comp = 3 +2j\n",
        "print(\" the no is : \",comp)\n",
        "print(\"Data Type of the no is : \",type(comp))\n",
        "print(\"saccha namber : \",comp.real)\n",
        "print(\"haafwa hai ye haafwa : \",comp.imag)\n",
        "print(\"Complex ka Feeeakk :\",comp.conjugate())\n"
      ],
      "metadata": {
        "colab": {
          "base_uri": "https://localhost:8080/"
        },
        "id": "sOM09V_5RvH2",
        "outputId": "88532b49-fae9-4e8c-9f0f-9dddf2de9d0f"
      },
      "execution_count": 48,
      "outputs": [
        {
          "output_type": "stream",
          "name": "stdout",
          "text": [
            " the no is :  (3+2j)\n",
            "Data Type of the no is :  <class 'complex'>\n",
            "saccha namber :  3.0\n",
            "haafwa hai ye haafwa :  2.0\n",
            "Complex ka Feeeakk : (3-2j)\n"
          ]
        }
      ]
    },
    {
      "cell_type": "code",
      "source": [
        "#4\n",
        "b = float(input(\"Enter Base : \"))\n",
        "h = float(input(\"Enter Height : \"))\n",
        "area = 0.5 * b * h\n",
        "print(\"Triangle ka area hai = \", area)"
      ],
      "metadata": {
        "colab": {
          "base_uri": "https://localhost:8080/"
        },
        "id": "VG32Zm3VMIrV",
        "outputId": "f5c3dcb5-9720-4baf-a02e-e4419bd2dc2a"
      },
      "execution_count": 45,
      "outputs": [
        {
          "output_type": "stream",
          "name": "stdout",
          "text": [
            "Enter Base : 3\n",
            "Enter Height : 4\n",
            "Triangle ka area hai =  6.0\n"
          ]
        }
      ]
    },
    {
      "cell_type": "code",
      "source": [
        "#5\n",
        "a =float(input(\"enter Side A :\"))\n",
        "b =float(input(\"enter Side B :\"))\n",
        "c =float(input(\"enter Side C :\"))\n",
        "p = a + b + c\n",
        "print(\"PeriPeri of Tiangle : \", p)"
      ],
      "metadata": {
        "colab": {
          "base_uri": "https://localhost:8080/"
        },
        "id": "JnXa3-rCQ3pI",
        "outputId": "13f51ba6-6889-4089-bd0f-0665b42e5f68"
      },
      "execution_count": 52,
      "outputs": [
        {
          "output_type": "stream",
          "name": "stdout",
          "text": [
            "enter Side A :1\n",
            "enter Side B :2\n",
            "enter Side C :3\n",
            "PeriPeri of Tiangle :  6.0\n"
          ]
        }
      ]
    },
    {
      "cell_type": "code",
      "source": [
        "#6\n",
        "l = float(input(\"Enter Length : \"))\n",
        "w = float(input(\"Enter Width : \"))\n",
        "a = l * w\n",
        "p = 2 * l + w\n",
        "print(\"rectangle ka area\",a) \n",
        "print(\"rectangle periperi\",p)"
      ],
      "metadata": {
        "colab": {
          "base_uri": "https://localhost:8080/"
        },
        "id": "hJvHltR7azU3",
        "outputId": "f68e6679-f6b4-4176-ffea-3ef812d1f7c6"
      },
      "execution_count": 56,
      "outputs": [
        {
          "output_type": "stream",
          "name": "stdout",
          "text": [
            "Enter Length : 4\n",
            "Enter Width : 4\n",
            "rectangle ka area 16.0\n",
            "rectangle periperi 12.0\n"
          ]
        }
      ]
    },
    {
      "cell_type": "code",
      "source": [
        "#7\n",
        "r = float(input(\"Enter Radius : \"))\n",
        "a = 3.14 * r * r\n",
        "c = 2 * 3.14 * r\n",
        "print(\"Circle ka Area :\",a , \"\\n Aur Circumference\",c )"
      ],
      "metadata": {
        "colab": {
          "base_uri": "https://localhost:8080/"
        },
        "id": "yh1Fk-bjcWad",
        "outputId": "8dd0ac47-a462-4853-b272-72a12a8802a8"
      },
      "execution_count": 91,
      "outputs": [
        {
          "output_type": "stream",
          "name": "stdout",
          "text": [
            "Enter Radius : 3\n",
            "Circle ka Area : 28.259999999999998 \n",
            " Aur Circumference 18.84\n"
          ]
        }
      ]
    },
    {
      "cell_type": "code",
      "source": [
        "# 8\n",
        "\n",
        "#The slope intercept form is y = mx + b where\n",
        "#M is the Slope \n",
        "#b is the Y-intercept\n",
        "\n",
        "\n",
        "#Y = mx +b tho Find slope using the given val\n",
        "\n",
        "m1 = 2     #<<< M Slope hai\n",
        "b = -2    # Y-intercept value\n",
        "print(\"Slope of eq (y= 2x -2 ) :\",m1)\n",
        "x = -b/m1\n",
        "print(\"Wtith X-Interceptor : \",x)\n",
        "print(\"Wtith Y-Interceptor : \",b)\n",
        "\n",
        "\n"
      ],
      "metadata": {
        "colab": {
          "base_uri": "https://localhost:8080/"
        },
        "id": "fWdKPCuIdV1S",
        "outputId": "02b820f7-b26e-46a5-f6b3-0567d0496464"
      },
      "execution_count": 92,
      "outputs": [
        {
          "output_type": "stream",
          "name": "stdout",
          "text": [
            "Slope of eq (y= 2x -2 ) : 2\n",
            "Wtith X-Interceptor :  1.0\n",
            "Wtith Y-Interceptor :  -2\n"
          ]
        }
      ]
    },
    {
      "cell_type": "code",
      "source": [
        "v = input()\n",
        "r = input()\n",
        "y = (v + r)\n",
        "print(y)"
      ],
      "metadata": {
        "colab": {
          "base_uri": "https://localhost:8080/"
        },
        "id": "4oBxpQGDQlYU",
        "outputId": "d9522280-5aa6-4d69-eb18-c57b226b6285"
      },
      "execution_count": 138,
      "outputs": [
        {
          "output_type": "stream",
          "name": "stdout",
          "text": [
            "2\n",
            "-2\n",
            "2-2\n"
          ]
        }
      ]
    },
    {
      "cell_type": "code",
      "source": [
        "#9 Slope is (m = y2 - y1/ x2 - x1)   >>>> x1,x2 = 2,2<<<<<>>>>y1,y2 = 6,10<<<<\n",
        "import math\n",
        "x1,x2 = 2,2\n",
        "y1,y2 = 6,10\n",
        "m = y2 - y1/ x2 - x1     # m------> Slope hai\n",
        "print(\"Ye Slope hai\",m)\n",
        "\n",
        "edist = math.dist([x1,x2], [y1,y2]) # edist------> Euclidean distance\n",
        "print(edist)"
      ],
      "metadata": {
        "colab": {
          "base_uri": "https://localhost:8080/"
        },
        "id": "O7MQ7pqlnPrc",
        "outputId": "bde14fe2-9701-445d-c235-52091740c7bd"
      },
      "execution_count": 93,
      "outputs": [
        {
          "output_type": "stream",
          "name": "stdout",
          "text": [
            "Ye Slope hai 5.0\n",
            "8.94427190999916\n"
          ]
        }
      ]
    },
    {
      "cell_type": "code",
      "source": [
        "#10\n",
        "print (m1 == m)\n",
        "d = abs(m1 - m)\n",
        "print(\"the Differnece between the Slopes is : \",d)"
      ],
      "metadata": {
        "colab": {
          "base_uri": "https://localhost:8080/"
        },
        "id": "yq-exptx6MTs",
        "outputId": "527f9ca1-e4ad-4a64-b728-77c4e2cfd52b"
      },
      "execution_count": 98,
      "outputs": [
        {
          "output_type": "stream",
          "name": "stdout",
          "text": [
            "False\n",
            "the Differnece between the Slopes is :  3.0\n"
          ]
        }
      ]
    },
    {
      "cell_type": "code",
      "source": [
        "#11 Calculate the value of y (y = x^2 + 6x + 9). \n",
        "#Try to use different x values and figure out at what x value y is going to be 0.\n",
        "y = x**2 + 6x + 9\n",
        "\n",
        "\n",
        "\n"
      ],
      "metadata": {
        "id": "BUd-gt9kCtyH"
      },
      "execution_count": null,
      "outputs": []
    },
    {
      "cell_type": "code",
      "source": [
        "i = \"python\"\n",
        "j = \"dragon\"\n",
        "print(\"Length of I is : \",len(i),\"\\n\", \"Length of J is =\" ,len(j))\n",
        "\n",
        "if len(i) == len(j):\n",
        "  print(\"True\")\n",
        "else:\n",
        "    print(\"FAlse\")\n",
        "\n"
      ],
      "metadata": {
        "colab": {
          "base_uri": "https://localhost:8080/"
        },
        "id": "xiShL8KOGJwr",
        "outputId": "5a7d7085-9d49-4dc2-b9f6-3d78de81528b"
      },
      "execution_count": 122,
      "outputs": [
        {
          "output_type": "stream",
          "name": "stdout",
          "text": [
            "Length of I is :  6 \n",
            " Length of J is = 6\n",
            "True\n"
          ]
        }
      ]
    },
    {
      "cell_type": "code",
      "source": [
        "#13\n",
        "print('on' in \"Python\" and \"on\" in \"dragon\")"
      ],
      "metadata": {
        "colab": {
          "base_uri": "https://localhost:8080/"
        },
        "id": "ID0B9BL4LDVd",
        "outputId": "c94ff1dd-b415-426e-da16-509503640764"
      },
      "execution_count": 130,
      "outputs": [
        {
          "output_type": "stream",
          "name": "stdout",
          "text": [
            "True\n"
          ]
        }
      ]
    },
    {
      "cell_type": "code",
      "source": [
        "#14\n",
        "print(\"jargon\" in \"I hope this course is not full of jargon \")"
      ],
      "metadata": {
        "id": "olggr-tkNBlW"
      },
      "execution_count": null,
      "outputs": []
    },
    {
      "cell_type": "code",
      "source": [
        "#15\n",
        "print('on' not in \"Python\" and \"on\" not in \"dragon\")"
      ],
      "metadata": {
        "colab": {
          "base_uri": "https://localhost:8080/"
        },
        "id": "PrtzoDvSNMKt",
        "outputId": "cf7cfa1a-538e-45a4-b23f-bf3f9e148743"
      },
      "execution_count": 132,
      "outputs": [
        {
          "output_type": "stream",
          "name": "stdout",
          "text": [
            "False\n"
          ]
        }
      ]
    },
    {
      "cell_type": "code",
      "source": [
        "#16\n",
        "a = (len('python'))\n",
        "print(a)\n",
        "type(a)\n"
      ],
      "metadata": {
        "colab": {
          "base_uri": "https://localhost:8080/"
        },
        "id": "QE3uuMM2NTk8",
        "outputId": "ffded1ac-368e-4a55-ba36-e10e29d220b3"
      },
      "execution_count": 139,
      "outputs": [
        {
          "output_type": "stream",
          "name": "stdout",
          "text": [
            "6\n"
          ]
        },
        {
          "output_type": "execute_result",
          "data": {
            "text/plain": [
              "int"
            ]
          },
          "metadata": {},
          "execution_count": 139
        }
      ]
    },
    {
      "cell_type": "code",
      "source": [
        "float_i = float(a)\n",
        "type(float_i)"
      ],
      "metadata": {
        "colab": {
          "base_uri": "https://localhost:8080/"
        },
        "id": "JHWQaShFVEDR",
        "outputId": "310ef188-74dc-40a3-b53b-993c52f1552d"
      },
      "execution_count": 141,
      "outputs": [
        {
          "output_type": "execute_result",
          "data": {
            "text/plain": [
              "float"
            ]
          },
          "metadata": {},
          "execution_count": 141
        }
      ]
    },
    {
      "cell_type": "code",
      "source": [
        "str_i = str(a)\n",
        "type(str_i)"
      ],
      "metadata": {
        "colab": {
          "base_uri": "https://localhost:8080/"
        },
        "id": "GbRx0W9laAVn",
        "outputId": "08cae599-2d2b-403f-b794-69bf1f54abe0"
      },
      "execution_count": 142,
      "outputs": [
        {
          "output_type": "execute_result",
          "data": {
            "text/plain": [
              "str"
            ]
          },
          "metadata": {},
          "execution_count": 142
        }
      ]
    },
    {
      "cell_type": "code",
      "source": [
        "#17\n",
        "num = int(input(\"Enter a number :\"))\n",
        "if (num % 2) == 0:\n",
        "  print(num,\"is Even\")\n",
        "else:\n",
        "  print(num,\"is not odd\")\n"
      ],
      "metadata": {
        "colab": {
          "base_uri": "https://localhost:8080/"
        },
        "id": "KRplce-1aNWp",
        "outputId": "d55e31b6-6b02-4cea-b6f3-39e75d67ba78"
      },
      "execution_count": 143,
      "outputs": [
        {
          "output_type": "stream",
          "name": "stdout",
          "text": [
            "Enter a number :2\n",
            "2 is Even\n"
          ]
        }
      ]
    },
    {
      "cell_type": "code",
      "source": [
        "#18\n",
        "i =7//3\n",
        "print(i)\n",
        "j = 2.7\n",
        "print(j)\n",
        "i==j"
      ],
      "metadata": {
        "colab": {
          "base_uri": "https://localhost:8080/"
        },
        "id": "MrsTyTT4a3yw",
        "outputId": "1cdf4712-329e-435f-92d3-d1f5916312bb"
      },
      "execution_count": 145,
      "outputs": [
        {
          "output_type": "stream",
          "name": "stdout",
          "text": [
            "2\n",
            "2.7\n"
          ]
        },
        {
          "output_type": "execute_result",
          "data": {
            "text/plain": [
              "False"
            ]
          },
          "metadata": {},
          "execution_count": 145
        }
      ]
    },
    {
      "cell_type": "code",
      "source": [
        "#19\n",
        "type('10') == type(10)"
      ],
      "metadata": {
        "colab": {
          "base_uri": "https://localhost:8080/"
        },
        "id": "8Q_SobgLbs_b",
        "outputId": "1551e53f-b7a5-41b3-f2db-048cf39c427e"
      },
      "execution_count": 146,
      "outputs": [
        {
          "output_type": "execute_result",
          "data": {
            "text/plain": [
              "False"
            ]
          },
          "metadata": {},
          "execution_count": 146
        }
      ]
    },
    {
      "cell_type": "code",
      "source": [
        "#20\n",
        "int(9.8) == 10"
      ],
      "metadata": {
        "colab": {
          "base_uri": "https://localhost:8080/"
        },
        "id": "XkxePMicb-pP",
        "outputId": "9ab1a0b4-47d6-400a-ceb6-bdede87434fc"
      },
      "execution_count": 147,
      "outputs": [
        {
          "output_type": "execute_result",
          "data": {
            "text/plain": [
              "False"
            ]
          },
          "metadata": {},
          "execution_count": 147
        }
      ]
    }
  ]
}